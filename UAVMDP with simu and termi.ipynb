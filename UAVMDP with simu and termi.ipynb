{
 "cells": [
  {
   "cell_type": "code",
   "execution_count": 2,
   "metadata": {},
   "outputs": [],
   "source": [
    "using POMDPs\n",
    "using Random \n",
    "using Parameters\n",
    "using StaticArrays\n",
    "using Distributions\n",
    "using MCTS\n",
    "using POMDPSimulators"
   ]
  },
  {
   "cell_type": "code",
   "execution_count": 3,
   "metadata": {},
   "outputs": [
    {
     "data": {
      "text/plain": [
       "UAVMDP"
      ]
     },
     "execution_count": 3,
     "metadata": {},
     "output_type": "execute_result"
    }
   ],
   "source": [
    "const Vec2 = SVector{2, Float64}\n",
    "const Vec3 = SVector{3, Float64}\n",
    "\n",
    "struct mystate\n",
    "    uavPose::Vec3\n",
    "    uavHeading::Float64 # radius\n",
    "    targetPose::Vec2\n",
    "end\n",
    "\n",
    "struct myaction\n",
    "    xy_speed::Float64 # m/s\n",
    "    z_speed::Float64\n",
    "    angle::Float64 # radius\n",
    "end\n",
    "\n",
    "@with_kw mutable struct UAVMDP <: MDP{mystate, myaction}\n",
    "\n",
    "    target_velocity::Vec2 = SVector(0.5,0.5)\n",
    "    target_std::Float64 = 0.1\n",
    "\n",
    "    r_outScene::Float64 = -70\n",
    "    r_action::Float64 = -10\n",
    "    r_reach::Float64 = 100\n",
    "\n",
    "    discount::Float64 = 0.95\n",
    "    \n",
    "    boundary::Int = 100\n",
    "    landing_r::Int = 1\n",
    "\n",
    "end"
   ]
  },
  {
   "cell_type": "code",
   "execution_count": 4,
   "metadata": {},
   "outputs": [],
   "source": [
    "function POMDPs.isterminal(p::UAVMDP,s::mystate,a::myaction)\n",
    "    condition1 = (sqrt((s.uavPose[1]-s.targetPose[1])^2 + (s.uavPose[2]-s.targetPose[2])^2 + s.uavPose[3]^2) < p.landing_r)\n",
    "    condition2 = s.uavPose[1] > p.boundary || s.uavPose[2]>p.boundary || s.uavPose[3]>p.boundary\n",
    "    condition = condition1 || condition2\n",
    "    return condition\n",
    "end"
   ]
  },
  {
   "cell_type": "code",
   "execution_count": 5,
   "metadata": {},
   "outputs": [],
   "source": [
    "function POMDPs.generate_s(p::UAVMDP, s::mystate, a::myaction)\n",
    "    # calculate target state\n",
    "    target_dt_distance = p.target_velocity\n",
    "    sensor_noise = rand(Normal(0, p.target_std), 2)\n",
    "    curr_targ = s.targetPose + target_dt_distance + sensor_noise # next_target_pos(p, s.targetPose)\n",
    "    # calculate UAV state\n",
    "    curr_angle = s.uavHeading + a.angle\n",
    "    xy_dt_distance = a.xy_speed*SVector(cos(curr_angle), sin(curr_angle)) # careful\n",
    "    z_dt_distance = a.z_speed\n",
    "    xyz_dt_distance = SVector(xy_dt_distance[1], xy_dt_distance[2], z_dt_distance)\n",
    "    curr_pos = s.uavPose + xyz_dt_distance\n",
    "    return mystate(curr_pos, curr_angle, curr_targ)\n",
    "end"
   ]
  },
  {
   "cell_type": "code",
   "execution_count": 6,
   "metadata": {},
   "outputs": [
    {
     "data": {
      "text/plain": [
       "myreward (generic function with 1 method)"
      ]
     },
     "execution_count": 6,
     "metadata": {},
     "output_type": "execute_result"
    }
   ],
   "source": [
    "function myreward(p::UAVMDP, s::mystate, a::myaction)\n",
    "    \n",
    "    distance_to_target = sqrt((s.uavPose[1]-s.targetPose[1])^2 + (s.uavPose[2]-s.targetPose[2])^2 + s.uavPose[3]^2)\n",
    "    \n",
    "    reward = p.r_action + 1/(distance_to_target+1)\n",
    "#     out scene punish \n",
    "    if s.uavPose[1]>p.boundary || s.uavPose[2]>p.boundary\n",
    "        reward = reward + p.r_outScene\n",
    "\n",
    "    end\n",
    "    \n",
    "    if distance_to_target < p.landing_r\n",
    "        reward = reward + p.r_reach\n",
    "\n",
    "    end\n",
    "    return reward\n",
    "end"
   ]
  },
  {
   "cell_type": "code",
   "execution_count": 7,
   "metadata": {},
   "outputs": [],
   "source": [
    "function POMDPs.actions(p::UAVMDP)\n",
    "    action_space = [myaction(i, j, k) for i=-5.0:5.0,j=-pi:pi,k=-5.0:5.0]\n",
    "    return action_space\n",
    "end"
   ]
  },
  {
   "cell_type": "code",
   "execution_count": 8,
   "metadata": {},
   "outputs": [],
   "source": [
    "function POMDPs.generate_sr(p::UAVMDP, s::mystate, a::myaction, rng::AbstractRNG)\n",
    "    sp = generate_s(p, s, a)\n",
    "    r = myreward(p, s, a)\n",
    "    return sp, r\n",
    "end"
   ]
  },
  {
   "cell_type": "code",
   "execution_count": 9,
   "metadata": {},
   "outputs": [
    {
     "data": {
      "text/plain": [
       "UAVMDP\n",
       "  target_velocity: SArray{Tuple{2},Float64,1,2}\n",
       "  target_std: Float64 0.1\n",
       "  r_outScene: Float64 -70.0\n",
       "  r_action: Float64 -10.0\n",
       "  r_reach: Float64 100.0\n",
       "  discount: Float64 0.95\n",
       "  boundary: Int64 100\n",
       "  landing_r: Int64 1\n"
      ]
     },
     "execution_count": 9,
     "metadata": {},
     "output_type": "execute_result"
    }
   ],
   "source": [
    "POMDPs.initialstate_distribution(p::UAVMDP) = mystate(SVector(10,10,10),0,SVector(0,0))\n",
    "POMDPs.discount(p::UAVMDP) = p.discount\n",
    "solver = MCTSSolver(n_iterations=50, depth=20, exploration_constant=5.0)\n",
    "UAV = UAVMDP()"
   ]
  },
  {
   "cell_type": "code",
   "execution_count": 10,
   "metadata": {},
   "outputs": [
    {
     "data": {
      "text/plain": [
       "MCTSPlanner{UAVMDP,mystate,myaction,MCTS.SolvedRolloutEstimator{POMDPPolicies.RandomPolicy{MersenneTwister,UAVMDP,BeliefUpdaters.NothingUpdater},MersenneTwister},MersenneTwister}(MCTSSolver(50, 20, 5.0, MersenneTwister(UInt32[0x480df4a7, 0xa5913337, 0x384344b5, 0x99a6a3f4], Random.DSFMT.DSFMT_state(Int32[1712506924, 1073613510, -1796880516, 1073224875, 500692120, 1073692069, -1293703140, 1073219375, -730076295, 1073210020  …  -590433360, 1073358649, -1937381248, 1072884348, 493971075, -921970395, 62477793, 1892476654, 382, 0]), [0.0, 0.0, 0.0, 0.0, 0.0, 0.0, 0.0, 0.0, 0.0, 0.0  …  0.0, 0.0, 0.0, 0.0, 0.0, 0.0, 0.0, 0.0, 0.0, 0.0], UInt128[0x00000000000000000000000000000000, 0x00000000000000000000000000000000, 0x00000000000000000000000000000000, 0x00000000000000000000000000000000, 0x00000000000000000000000000000000, 0x00000000000000000000000000000000, 0x00000000000000000000000000000000, 0x00000000000000000000000000000000, 0x00000000000000000000000000000000, 0x00000000000000000000000000000000  …  0x00000000000000000000000000000000, 0x00000000000000000000000000000000, 0x00000000000000000000000000000000, 0x00000000000000000000000000000000, 0x00000000000000000000000000000000, 0x00000000000000000000000000000000, 0x00000000000000000000000000000000, 0x00000000000000000000000000000000, 0x00000000000000000000000000000000, 0x00000000000000000000000000000000], 1002, 0), RolloutEstimator(POMDPPolicies.RandomSolver(MersenneTwister(UInt32[0x480df4a7, 0xa5913337, 0x384344b5, 0x99a6a3f4], Random.DSFMT.DSFMT_state(Int32[1712506924, 1073613510, -1796880516, 1073224875, 500692120, 1073692069, -1293703140, 1073219375, -730076295, 1073210020  …  -590433360, 1073358649, -1937381248, 1072884348, 493971075, -921970395, 62477793, 1892476654, 382, 0]), [0.0, 0.0, 0.0, 0.0, 0.0, 0.0, 0.0, 0.0, 0.0, 0.0  …  0.0, 0.0, 0.0, 0.0, 0.0, 0.0, 0.0, 0.0, 0.0, 0.0], UInt128[0x00000000000000000000000000000000, 0x00000000000000000000000000000000, 0x00000000000000000000000000000000, 0x00000000000000000000000000000000, 0x00000000000000000000000000000000, 0x00000000000000000000000000000000, 0x00000000000000000000000000000000, 0x00000000000000000000000000000000, 0x00000000000000000000000000000000, 0x00000000000000000000000000000000  …  0x00000000000000000000000000000000, 0x00000000000000000000000000000000, 0x00000000000000000000000000000000, 0x00000000000000000000000000000000, 0x00000000000000000000000000000000, 0x00000000000000000000000000000000, 0x00000000000000000000000000000000, 0x00000000000000000000000000000000, 0x00000000000000000000000000000000, 0x00000000000000000000000000000000], 1002, 0))), 0.0, 0, false, false), UAVMDP\n",
       "  target_velocity: SArray{Tuple{2},Float64,1,2}\n",
       "  target_std: Float64 0.1\n",
       "  r_outScene: Float64 -70.0\n",
       "  r_action: Float64 -10.0\n",
       "  r_reach: Float64 100.0\n",
       "  discount: Float64 0.95\n",
       "  boundary: Int64 100\n",
       "  landing_r: Int64 1\n",
       ", MCTS.MCTSTree{mystate,myaction}(Dict{mystate,Int64}(), Array{Int64,1}[], Int64[], mystate[], Int64[], Float64[], myaction[], Dict{Pair{Int64,Int64},Int64}()), MCTS.SolvedRolloutEstimator{POMDPPolicies.RandomPolicy{MersenneTwister,UAVMDP,BeliefUpdaters.NothingUpdater},MersenneTwister}(POMDPPolicies.RandomPolicy{MersenneTwister,UAVMDP,BeliefUpdaters.NothingUpdater}(MersenneTwister(UInt32[0x480df4a7, 0xa5913337, 0x384344b5, 0x99a6a3f4], Random.DSFMT.DSFMT_state(Int32[1712506924, 1073613510, -1796880516, 1073224875, 500692120, 1073692069, -1293703140, 1073219375, -730076295, 1073210020  …  -590433360, 1073358649, -1937381248, 1072884348, 493971075, -921970395, 62477793, 1892476654, 382, 0]), [0.0, 0.0, 0.0, 0.0, 0.0, 0.0, 0.0, 0.0, 0.0, 0.0  …  0.0, 0.0, 0.0, 0.0, 0.0, 0.0, 0.0, 0.0, 0.0, 0.0], UInt128[0x00000000000000000000000000000000, 0x00000000000000000000000000000000, 0x00000000000000000000000000000000, 0x00000000000000000000000000000000, 0x00000000000000000000000000000000, 0x00000000000000000000000000000000, 0x00000000000000000000000000000000, 0x00000000000000000000000000000000, 0x00000000000000000000000000000000, 0x00000000000000000000000000000000  …  0x00000000000000000000000000000000, 0x00000000000000000000000000000000, 0x00000000000000000000000000000000, 0x00000000000000000000000000000000, 0x00000000000000000000000000000000, 0x00000000000000000000000000000000, 0x00000000000000000000000000000000, 0x00000000000000000000000000000000, 0x00000000000000000000000000000000, 0x00000000000000000000000000000000], 1002, 0), UAVMDP\n",
       "  target_velocity: SArray{Tuple{2},Float64,1,2}\n",
       "  target_std: Float64 0.1\n",
       "  r_outScene: Float64 -70.0\n",
       "  r_action: Float64 -10.0\n",
       "  r_reach: Float64 100.0\n",
       "  discount: Float64 0.95\n",
       "  boundary: Int64 100\n",
       "  landing_r: Int64 1\n",
       ", BeliefUpdaters.NothingUpdater()), MersenneTwister(UInt32[0x480df4a7, 0xa5913337, 0x384344b5, 0x99a6a3f4], Random.DSFMT.DSFMT_state(Int32[1712506924, 1073613510, -1796880516, 1073224875, 500692120, 1073692069, -1293703140, 1073219375, -730076295, 1073210020  …  -590433360, 1073358649, -1937381248, 1072884348, 493971075, -921970395, 62477793, 1892476654, 382, 0]), [0.0, 0.0, 0.0, 0.0, 0.0, 0.0, 0.0, 0.0, 0.0, 0.0  …  0.0, 0.0, 0.0, 0.0, 0.0, 0.0, 0.0, 0.0, 0.0, 0.0], UInt128[0x00000000000000000000000000000000, 0x00000000000000000000000000000000, 0x00000000000000000000000000000000, 0x00000000000000000000000000000000, 0x00000000000000000000000000000000, 0x00000000000000000000000000000000, 0x00000000000000000000000000000000, 0x00000000000000000000000000000000, 0x00000000000000000000000000000000, 0x00000000000000000000000000000000  …  0x00000000000000000000000000000000, 0x00000000000000000000000000000000, 0x00000000000000000000000000000000, 0x00000000000000000000000000000000, 0x00000000000000000000000000000000, 0x00000000000000000000000000000000, 0x00000000000000000000000000000000, 0x00000000000000000000000000000000, 0x00000000000000000000000000000000, 0x00000000000000000000000000000000], 1002, 0)), MersenneTwister(UInt32[0x480df4a7, 0xa5913337, 0x384344b5, 0x99a6a3f4], Random.DSFMT.DSFMT_state(Int32[1712506924, 1073613510, -1796880516, 1073224875, 500692120, 1073692069, -1293703140, 1073219375, -730076295, 1073210020  …  -590433360, 1073358649, -1937381248, 1072884348, 493971075, -921970395, 62477793, 1892476654, 382, 0]), [0.0, 0.0, 0.0, 0.0, 0.0, 0.0, 0.0, 0.0, 0.0, 0.0  …  0.0, 0.0, 0.0, 0.0, 0.0, 0.0, 0.0, 0.0, 0.0, 0.0], UInt128[0x00000000000000000000000000000000, 0x00000000000000000000000000000000, 0x00000000000000000000000000000000, 0x00000000000000000000000000000000, 0x00000000000000000000000000000000, 0x00000000000000000000000000000000, 0x00000000000000000000000000000000, 0x00000000000000000000000000000000, 0x00000000000000000000000000000000, 0x00000000000000000000000000000000  …  0x00000000000000000000000000000000, 0x00000000000000000000000000000000, 0x00000000000000000000000000000000, 0x00000000000000000000000000000000, 0x00000000000000000000000000000000, 0x00000000000000000000000000000000, 0x00000000000000000000000000000000, 0x00000000000000000000000000000000, 0x00000000000000000000000000000000, 0x00000000000000000000000000000000], 1002, 0))"
      ]
     },
     "execution_count": 10,
     "metadata": {},
     "output_type": "execute_result"
    }
   ],
   "source": [
    "policy = solve(solver, UAV)"
   ]
  },
  {
   "cell_type": "code",
   "execution_count": 11,
   "metadata": {},
   "outputs": [
    {
     "data": {
      "text/plain": [
       "myaction(1.0, 0.8584073464102069, -5.0)"
      ]
     },
     "execution_count": 11,
     "metadata": {},
     "output_type": "execute_result"
    }
   ],
   "source": [
    "###trial\n",
    "a = action(policy,mystate(SVector(10,10,10),0,SVector(0,0)))"
   ]
  },
  {
   "cell_type": "code",
   "execution_count": 35,
   "metadata": {},
   "outputs": [
    {
     "data": {
      "text/plain": [
       "0-element Array{Any,1}"
      ]
     },
     "execution_count": 35,
     "metadata": {},
     "output_type": "execute_result"
    }
   ],
   "source": [
    "uav_poses = [] # Vector of sequential uav poses\n",
    "target_poses = []"
   ]
  },
  {
   "cell_type": "code",
   "execution_count": 36,
   "metadata": {},
   "outputs": [
    {
     "name": "stdout",
     "output_type": "stream",
     "text": [
      "reward_sum = -9.945416360950874\n",
      "reward_sum = -19.89272310234088\n",
      "reward_sum = -29.83983063987627\n",
      "reward_sum = -39.78513389489164\n",
      "reward_sum = -49.73066095944209\n",
      "reward_sum = -59.67806628004031\n",
      "reward_sum = -69.62767808581205\n",
      "reward_sum = -79.57757013551459\n",
      "reward_sum = -89.5271668989641\n",
      "reward_sum = -99.47770274207927\n",
      "reward_sum = -109.4301677019853\n",
      "reward_sum = -119.38445215528156\n",
      "reward_sum = -129.33965716601023\n",
      "reward_sum = -139.2956572729514\n",
      "reward_sum = -149.2529131513967\n",
      "reward_sum = -159.21170414260223\n",
      "reward_sum = -169.1718513722309\n",
      "reward_sum = -179.13310673121896\n",
      "reward_sum = -189.09539710952893\n",
      "reward_sum = -199.058793272296\n",
      "reward_sum = -209.02330860158577\n",
      "reward_sum = -218.9888773192655\n",
      "reward_sum = -228.9554782769379\n",
      "reward_sum = -238.92307157855856\n",
      "reward_sum = -248.8915742662403\n",
      "reward_sum = -258.8608823824958\n",
      "reward_sum = -268.8310173743419\n",
      "reward_sum = -278.8020619958002\n",
      "reward_sum = -288.7739636177759\n",
      "reward_sum = -298.74654256606846\n",
      "reward_sum = -308.71969907841304\n",
      "reward_sum = -318.69353412129743\n",
      "reward_sum = -328.66813450570186\n",
      "reward_sum = -338.64345453979115\n",
      "reward_sum = -348.6193131079477\n",
      "reward_sum = -358.59561920580757\n",
      "reward_sum = -368.57246864890726\n",
      "reward_sum = -378.54996096639627\n",
      "reward_sum = -388.5280411018754\n",
      "reward_sum = -398.50652116390967\n",
      "reward_sum = -408.48532105201707\n",
      "reward_sum = -418.46458867770923\n",
      "reward_sum = -428.4444176228418\n",
      "reward_sum = -438.42472416317344\n",
      "reward_sum = -448.4053624556989\n",
      "reward_sum = -458.38627879559124\n",
      "reward_sum = -468.3675795404486\n",
      "reward_sum = -478.34934227546006\n",
      "reward_sum = -488.3314811992692\n",
      "reward_sum = -498.31386782554074\n",
      "reward_sum = -508.2964962216454\n",
      "reward_sum = -518.2794668042945\n",
      "reward_sum = -528.2628514680675\n",
      "reward_sum = -538.2465461205135\n",
      "reward_sum = -548.2304299709983\n",
      "reward_sum = -558.2145209497627\n",
      "reward_sum = -568.1989060099469\n",
      "reward_sum = -578.1836214163147\n",
      "reward_sum = -588.1685959707024\n",
      "reward_sum = -598.1537302652805\n",
      "reward_sum = -608.1390178170525\n",
      "reward_sum = -618.1245704476036\n",
      "reward_sum = -628.1104251670947\n",
      "reward_sum = -638.096477769278\n",
      "reward_sum = -648.082646751612\n",
      "reward_sum = -658.0689720107212\n",
      "reward_sum = -668.055530535563\n",
      "reward_sum = -678.0423375559851\n",
      "reward_sum = -688.0293269885906\n",
      "reward_sum = -698.0164253414594\n",
      "reward_sum = -708.0036666377708\n",
      "reward_sum = -717.9911163480962\n",
      "reward_sum = -727.9787910028715\n",
      "reward_sum = -737.9666184094855\n",
      "reward_sum = -747.95455098651\n",
      "reward_sum = -757.9426180201667\n",
      "reward_sum = -767.9308830806336\n",
      "reward_sum = -777.9193311278752\n",
      "reward_sum = -787.9078976598257\n",
      "reward_sum = -797.8965415756487\n",
      "reward_sum = -807.8853110453526\n",
      "reward_sum = -817.8742726370662\n",
      "reward_sum = -827.8634025306362\n",
      "reward_sum = -837.8526413789566\n",
      "reward_sum = -847.8419478847572\n",
      "reward_sum = -857.8313725097371\n",
      "reward_sum = -867.820958259191\n",
      "reward_sum = -877.8106919513995\n",
      "reward_sum = -887.8005098313745\n",
      "reward_sum = -897.7903966649998\n",
      "reward_sum = -907.7803977355452\n",
      "reward_sum = -917.7705581920341\n",
      "reward_sum = -927.7608415658877\n",
      "reward_sum = -937.7511899243425\n",
      "reward_sum = -947.741596302785\n",
      "reward_sum = -957.7321015843471\n",
      "reward_sum = -967.7227551027258\n",
      "reward_sum = -977.7135225779759\n",
      "reward_sum = -987.7043431993764\n",
      "reward_sum = -997.6952212146641\n"
     ]
    }
   ],
   "source": [
    "i=0\n",
    "terminate = false\n",
    "reward_sum = 0\n",
    "\n",
    "current_state = mystate(SVector(10,10,10),0,SVector(0,0)) ##initialize state\n",
    "\n",
    "while i<100 && !terminate\n",
    "    current_action = action(policy,current_state)\n",
    "    current_reward = myreward(UAV, current_state, current_action)\n",
    "    current_state = generate_s(UAV, current_state, current_action)\n",
    "    push!(uav_poses, current_state.uavPose)\n",
    "    push!(target_poses, current_state.targetPose)\n",
    "    terminate = isterminal(UAV,current_state,current_action)\n",
    "    reward_sum = reward_sum + current_reward\n",
    "    i=i+1\n",
    "    @show reward_sum\n",
    "end"
   ]
  },
  {
   "cell_type": "code",
   "execution_count": 37,
   "metadata": {},
   "outputs": [
    {
     "data": {
      "text/plain": [
       "100-element Array{Any,1}:\n",
       " [10.2837, 10.9589, 10.8584]\n",
       " [9.44459, 11.5029, 11.7168]\n",
       " [8.6849, 10.8527, 12.5752] \n",
       " [9.09298, 9.93971, 13.4336]\n",
       " [10.0842, 10.0721, 14.292] \n",
       " [10.2384, 11.0601, 15.1504]\n",
       " [9.33475, 11.4883, 16.0089]\n",
       " [8.66781, 10.7432, 16.8673]\n",
       " [9.19313, 9.89226, 17.7257]\n",
       " [10.1581, 10.1546, 18.5841]\n",
       " [10.1802, 11.1544, 19.4425]\n",
       " [9.22781, 11.4592, 20.3009]\n",
       " [8.66536, 10.6324, 21.1593]\n",
       " ⋮                          \n",
       " [10.3224, 10.8164, 86.3983]\n",
       " [9.59226, 11.4997, 87.2567]\n",
       " [8.72993, 10.9933, 88.1151]\n",
       " [8.97086, 10.0228, 88.9735]\n",
       " [9.96988, 9.97852, 89.8319]\n",
       " [10.2957, 10.9239, 90.6903]\n",
       " [9.48155, 11.5046, 91.5487]\n",
       " [8.69382, 10.8886, 92.4071]\n",
       " [9.06108, 9.95845, 93.2655]\n",
       " [10.0572, 10.0468, 94.1239]\n",
       " [10.255, 11.027, 94.9823]  \n",
       " [9.37117, 11.4948, 95.8407]"
      ]
     },
     "execution_count": 37,
     "metadata": {},
     "output_type": "execute_result"
    }
   ],
   "source": [
    "uav_poses"
   ]
  },
  {
   "cell_type": "code",
   "execution_count": 48,
   "metadata": {},
   "outputs": [
    {
     "name": "stdout",
     "output_type": "stream",
     "text": [
      "\u001b[32m\u001b[1m Resolving\u001b[22m\u001b[39m package versions...\n",
      "\u001b[32m\u001b[1m  Updating\u001b[22m\u001b[39m `~/.julia/environments/v1.0/Project.toml`\n",
      "\u001b[90m [no changes]\u001b[39m\n",
      "\u001b[32m\u001b[1m  Updating\u001b[22m\u001b[39m `~/.julia/environments/v1.0/Manifest.toml`\n",
      "\u001b[90m [no changes]\u001b[39m\n",
      "\u001b[32m\u001b[1m Resolving\u001b[22m\u001b[39m package versions...\n",
      "\u001b[32m\u001b[1m  Updating\u001b[22m\u001b[39m `~/.julia/environments/v1.0/Project.toml`\n",
      "\u001b[90m [no changes]\u001b[39m\n",
      "\u001b[32m\u001b[1m  Updating\u001b[22m\u001b[39m `~/.julia/environments/v1.0/Manifest.toml`\n",
      "\u001b[90m [no changes]\u001b[39m\n",
      "\u001b[32m\u001b[1m Resolving\u001b[22m\u001b[39m package versions...\n",
      "\u001b[32m\u001b[1m  Updating\u001b[22m\u001b[39m `~/.julia/environments/v1.0/Project.toml`\n",
      " \u001b[90m [8bb1440f]\u001b[39m\u001b[92m + DelimitedFiles \u001b[39m\n",
      "\u001b[32m\u001b[1m  Updating\u001b[22m\u001b[39m `~/.julia/environments/v1.0/Manifest.toml`\n",
      "\u001b[90m [no changes]\u001b[39m\n"
     ]
    }
   ],
   "source": [
    "using Pkg\n",
    "Pkg.add(\"DelimitedFiles\")"
   ]
  },
  {
   "cell_type": "code",
   "execution_count": 51,
   "metadata": {},
   "outputs": [],
   "source": [
    "using DelimitedFiles\n",
    "writedlm( \"uvapos.csv\", uav_poses)\n",
    "writedlm( \"targetpos.csv\", target_poses)"
   ]
  }
 ],
 "metadata": {
  "kernelspec": {
   "display_name": "Julia 1.0.0",
   "language": "julia",
   "name": "julia-1.0"
  },
  "language_info": {
   "file_extension": ".jl",
   "mimetype": "application/julia",
   "name": "julia",
   "version": "1.0.0"
  }
 },
 "nbformat": 4,
 "nbformat_minor": 2
}
