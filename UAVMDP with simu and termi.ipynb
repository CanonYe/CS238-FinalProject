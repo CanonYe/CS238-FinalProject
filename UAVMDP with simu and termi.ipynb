{
 "cells": [
  {
   "cell_type": "code",
   "execution_count": 1,
   "metadata": {},
   "outputs": [],
   "source": [
    "using POMDPs\n",
    "using Random \n",
    "using Parameters\n",
    "using StaticArrays\n",
    "using Distributions\n",
    "using MCTS\n",
    "using POMDPSimulators"
   ]
  },
  {
   "cell_type": "code",
   "execution_count": 2,
   "metadata": {},
   "outputs": [
    {
     "data": {
      "text/plain": [
       "UAVMDP"
      ]
     },
     "execution_count": 2,
     "metadata": {},
     "output_type": "execute_result"
    }
   ],
   "source": [
    "const Vec2 = SVector{2, Float64}\n",
    "const Vec3 = SVector{3, Float64}\n",
    "\n",
    "struct mystate\n",
    "    uavPose::Vec3\n",
    "    uavHeading::Float64 # radius\n",
    "    targetPose::Vec2\n",
    "end\n",
    "\n",
    "struct myaction\n",
    "    xy_speed::Float64 # m/s\n",
    "    z_speed::Float64\n",
    "    angle::Float64 # radius\n",
    "end\n",
    "\n",
    "@with_kw mutable struct UAVMDP <: MDP{mystate, myaction}\n",
    "\n",
    "    target_velocity::Vec2 = SVector(0.5,0.5)\n",
    "    target_std::Float64 = 0.1\n",
    "\n",
    "    r_outScene::Float64 = -70\n",
    "    r_action::Float64 = -10\n",
    "    r_reach::Float64 = 100\n",
    "\n",
    "    discount::Float64 = 0.95\n",
    "    \n",
    "    boundary::Int = 100\n",
    "    landing_r::Int = 1\n",
    "\n",
    "end"
   ]
  },
  {
   "cell_type": "code",
   "execution_count": 3,
   "metadata": {},
   "outputs": [],
   "source": [
    "function POMDPs.isterminal(p::UAVMDP,s::mystate,a::myaction)\n",
    "    condition1 = (sqrt((s.uavPose[1]-s.targetPose[1])^2 + (s.uavPose[2]-s.targetPose[2])^2 + s.uavPose[3]^2) < p.landing_r)\n",
    "    condition2 = s.uavPose[1] > p.boundary || s.uavPose[2]>p.boundary || s.uavPose[3]>p.boundary\n",
    "    condition3 = s.uavPose[1] < 0 || s.uavPose[2] < 0 || s.uavPose[3] < 0\n",
    "    condition = condition1 || condition2 || condition3\n",
    "    return condition\n",
    "end"
   ]
  },
  {
   "cell_type": "code",
   "execution_count": 4,
   "metadata": {},
   "outputs": [],
   "source": [
    "function POMDPs.generate_s(p::UAVMDP, s::mystate, a::myaction)\n",
    "    # calculate target state\n",
    "    target_dt_distance = p.target_velocity\n",
    "    sensor_noise = rand(Normal(0, p.target_std), 2)\n",
    "    curr_targ = s.targetPose + target_dt_distance + sensor_noise # next_target_pos(p, s.targetPose)\n",
    "    # calculate UAV state\n",
    "    curr_angle = s.uavHeading + a.angle\n",
    "    xy_dt_distance = a.xy_speed*SVector(cos(curr_angle), sin(curr_angle)) # careful\n",
    "    z_dt_distance = a.z_speed\n",
    "    xyz_dt_distance = SVector(xy_dt_distance[1], xy_dt_distance[2], z_dt_distance)\n",
    "    curr_pos = s.uavPose + xyz_dt_distance\n",
    "    return mystate(curr_pos, curr_angle, curr_targ)\n",
    "end"
   ]
  },
  {
   "cell_type": "code",
   "execution_count": 5,
   "metadata": {},
   "outputs": [
    {
     "data": {
      "text/plain": [
       "myreward (generic function with 1 method)"
      ]
     },
     "execution_count": 5,
     "metadata": {},
     "output_type": "execute_result"
    }
   ],
   "source": [
    "function myreward(p::UAVMDP, s::mystate, a::myaction)\n",
    "    \n",
    "    distance_to_target = sqrt((s.uavPose[1]-s.targetPose[1])^2 + (s.uavPose[2]-s.targetPose[2])^2 + s.uavPose[3]^2)\n",
    "    reward = p.r_action + 1/(distance_to_target+1)\n",
    "    \n",
    "    #out scene punish \n",
    "    if s.uavPose[1]>p.boundary || s.uavPose[2]>p.boundary\n",
    "        reward = reward + p.r_outScene\n",
    "    end\n",
    "    \n",
    "    if distance_to_target < p.landing_r\n",
    "        reward = reward + p.r_reach\n",
    "    end\n",
    "    return reward\n",
    "end"
   ]
  },
  {
   "cell_type": "code",
   "execution_count": 6,
   "metadata": {},
   "outputs": [],
   "source": [
    "function POMDPs.actions(p::UAVMDP)\n",
    "    action_space = [myaction(i, j, k) for i=-5.0:5.0,j=-5.0:5.0,k=-pi:pi]\n",
    "    return action_space\n",
    "end"
   ]
  },
  {
   "cell_type": "code",
   "execution_count": 7,
   "metadata": {},
   "outputs": [],
   "source": [
    "function POMDPs.generate_sr(p::UAVMDP, s::mystate, a::myaction, rng::AbstractRNG)\n",
    "    sp = generate_s(p, s, a)\n",
    "    r = myreward(p, s, a)\n",
    "    return sp, r\n",
    "end"
   ]
  },
  {
   "cell_type": "code",
   "execution_count": 19,
   "metadata": {},
   "outputs": [
    {
     "data": {
      "text/plain": [
       "UAVMDP\n",
       "  target_velocity: SArray{Tuple{2},Float64,1,2}\n",
       "  target_std: Float64 0.1\n",
       "  r_outScene: Float64 -70.0\n",
       "  r_action: Float64 -10.0\n",
       "  r_reach: Float64 100.0\n",
       "  discount: Float64 0.95\n",
       "  boundary: Int64 100\n",
       "  landing_r: Int64 1\n"
      ]
     },
     "execution_count": 19,
     "metadata": {},
     "output_type": "execute_result"
    }
   ],
   "source": [
    "POMDPs.initialstate_distribution(p::UAVMDP) = mystate(SVector(rand(1:100),rand(1:100),rand(1:100)),0,SVector(0,0))\n",
    "POMDPs.discount(p::UAVMDP) = p.discount\n",
    "solver = MCTSSolver(n_iterations=50, depth=20, exploration_constant=5.0)\n",
    "UAV = UAVMDP()"
   ]
  },
  {
   "cell_type": "code",
   "execution_count": 20,
   "metadata": {},
   "outputs": [
    {
     "data": {
      "text/plain": [
       "MCTSPlanner{UAVMDP,mystate,myaction,MCTS.SolvedRolloutEstimator{POMDPPolicies.RandomPolicy{MersenneTwister,UAVMDP,BeliefUpdaters.NothingUpdater},MersenneTwister},MersenneTwister}(MCTSSolver(50, 20, 5.0, MersenneTwister(UInt32[0x384992b1, 0x4d4186f6, 0x65d3ca8f, 0x0f870daa], Random.DSFMT.DSFMT_state(Int32[1666487707, 1073230605, -659266473, 1073148275, -1244187148, 1072794303, -77635571, 1072847558, 172358740, 1073704220  …  812870699, 1073041398, 1060184256, 1073740245, -1253345191, -727061896, 1196420479, -1690985851, 382, 0]), [1.69662, 1.64343, 1.76243, 1.85251, 1.24353, 1.47309, 1.74671, 1.52653, 1.81725, 1.07697  …  1.24999, 1.33611, 1.53986, 1.45684, 1.42636, 1.84451, 1.74536, 1.72495, 1.33202, 1.99849], UInt128[0x00000000000000000000000000000000, 0x00000000000000000000000000000000, 0x00000000000000000000000000000000, 0x00000000000000000000000000000000, 0x00000000000000000000000000000000, 0x00000000000000000000000000000000, 0x00000000000000000000000000000000, 0x00000000000000000000000000000000, 0x00000000000000000000000000000000, 0x00000000000000000000000000000000  …  0x00000000000000000000000000000000, 0x00000000000000000000000000000000, 0x00000000000000000000000000000000, 0x00000000000000000000000000000000, 0x00000000000000000000000000000000, 0x00000000000000000000000000000000, 0x00000000000000000000000000000000, 0x00000000000000000000000000000000, 0x00000000000000000000000000000000, 0x00000000000000000000000000000000], 870, 0), RolloutEstimator(POMDPPolicies.RandomSolver(MersenneTwister(UInt32[0x384992b1, 0x4d4186f6, 0x65d3ca8f, 0x0f870daa], Random.DSFMT.DSFMT_state(Int32[1666487707, 1073230605, -659266473, 1073148275, -1244187148, 1072794303, -77635571, 1072847558, 172358740, 1073704220  …  812870699, 1073041398, 1060184256, 1073740245, -1253345191, -727061896, 1196420479, -1690985851, 382, 0]), [1.69662, 1.64343, 1.76243, 1.85251, 1.24353, 1.47309, 1.74671, 1.52653, 1.81725, 1.07697  …  1.24999, 1.33611, 1.53986, 1.45684, 1.42636, 1.84451, 1.74536, 1.72495, 1.33202, 1.99849], UInt128[0x00000000000000000000000000000000, 0x00000000000000000000000000000000, 0x00000000000000000000000000000000, 0x00000000000000000000000000000000, 0x00000000000000000000000000000000, 0x00000000000000000000000000000000, 0x00000000000000000000000000000000, 0x00000000000000000000000000000000, 0x00000000000000000000000000000000, 0x00000000000000000000000000000000  …  0x00000000000000000000000000000000, 0x00000000000000000000000000000000, 0x00000000000000000000000000000000, 0x00000000000000000000000000000000, 0x00000000000000000000000000000000, 0x00000000000000000000000000000000, 0x00000000000000000000000000000000, 0x00000000000000000000000000000000, 0x00000000000000000000000000000000, 0x00000000000000000000000000000000], 870, 0))), 0.0, 0, false, false), UAVMDP\n",
       "  target_velocity: SArray{Tuple{2},Float64,1,2}\n",
       "  target_std: Float64 0.1\n",
       "  r_outScene: Float64 -70.0\n",
       "  r_action: Float64 -10.0\n",
       "  r_reach: Float64 100.0\n",
       "  discount: Float64 0.95\n",
       "  boundary: Int64 100\n",
       "  landing_r: Int64 1\n",
       ", MCTS.MCTSTree{mystate,myaction}(Dict{mystate,Int64}(), Array{Int64,1}[], Int64[], mystate[], Int64[], Float64[], myaction[], Dict{Pair{Int64,Int64},Int64}()), MCTS.SolvedRolloutEstimator{POMDPPolicies.RandomPolicy{MersenneTwister,UAVMDP,BeliefUpdaters.NothingUpdater},MersenneTwister}(POMDPPolicies.RandomPolicy{MersenneTwister,UAVMDP,BeliefUpdaters.NothingUpdater}(MersenneTwister(UInt32[0x384992b1, 0x4d4186f6, 0x65d3ca8f, 0x0f870daa], Random.DSFMT.DSFMT_state(Int32[1666487707, 1073230605, -659266473, 1073148275, -1244187148, 1072794303, -77635571, 1072847558, 172358740, 1073704220  …  812870699, 1073041398, 1060184256, 1073740245, -1253345191, -727061896, 1196420479, -1690985851, 382, 0]), [1.69662, 1.64343, 1.76243, 1.85251, 1.24353, 1.47309, 1.74671, 1.52653, 1.81725, 1.07697  …  1.24999, 1.33611, 1.53986, 1.45684, 1.42636, 1.84451, 1.74536, 1.72495, 1.33202, 1.99849], UInt128[0x00000000000000000000000000000000, 0x00000000000000000000000000000000, 0x00000000000000000000000000000000, 0x00000000000000000000000000000000, 0x00000000000000000000000000000000, 0x00000000000000000000000000000000, 0x00000000000000000000000000000000, 0x00000000000000000000000000000000, 0x00000000000000000000000000000000, 0x00000000000000000000000000000000  …  0x00000000000000000000000000000000, 0x00000000000000000000000000000000, 0x00000000000000000000000000000000, 0x00000000000000000000000000000000, 0x00000000000000000000000000000000, 0x00000000000000000000000000000000, 0x00000000000000000000000000000000, 0x00000000000000000000000000000000, 0x00000000000000000000000000000000, 0x00000000000000000000000000000000], 870, 0), UAVMDP\n",
       "  target_velocity: SArray{Tuple{2},Float64,1,2}\n",
       "  target_std: Float64 0.1\n",
       "  r_outScene: Float64 -70.0\n",
       "  r_action: Float64 -10.0\n",
       "  r_reach: Float64 100.0\n",
       "  discount: Float64 0.95\n",
       "  boundary: Int64 100\n",
       "  landing_r: Int64 1\n",
       ", BeliefUpdaters.NothingUpdater()), MersenneTwister(UInt32[0x384992b1, 0x4d4186f6, 0x65d3ca8f, 0x0f870daa], Random.DSFMT.DSFMT_state(Int32[1666487707, 1073230605, -659266473, 1073148275, -1244187148, 1072794303, -77635571, 1072847558, 172358740, 1073704220  …  812870699, 1073041398, 1060184256, 1073740245, -1253345191, -727061896, 1196420479, -1690985851, 382, 0]), [1.69662, 1.64343, 1.76243, 1.85251, 1.24353, 1.47309, 1.74671, 1.52653, 1.81725, 1.07697  …  1.24999, 1.33611, 1.53986, 1.45684, 1.42636, 1.84451, 1.74536, 1.72495, 1.33202, 1.99849], UInt128[0x00000000000000000000000000000000, 0x00000000000000000000000000000000, 0x00000000000000000000000000000000, 0x00000000000000000000000000000000, 0x00000000000000000000000000000000, 0x00000000000000000000000000000000, 0x00000000000000000000000000000000, 0x00000000000000000000000000000000, 0x00000000000000000000000000000000, 0x00000000000000000000000000000000  …  0x00000000000000000000000000000000, 0x00000000000000000000000000000000, 0x00000000000000000000000000000000, 0x00000000000000000000000000000000, 0x00000000000000000000000000000000, 0x00000000000000000000000000000000, 0x00000000000000000000000000000000, 0x00000000000000000000000000000000, 0x00000000000000000000000000000000, 0x00000000000000000000000000000000], 870, 0)), MersenneTwister(UInt32[0x384992b1, 0x4d4186f6, 0x65d3ca8f, 0x0f870daa], Random.DSFMT.DSFMT_state(Int32[1666487707, 1073230605, -659266473, 1073148275, -1244187148, 1072794303, -77635571, 1072847558, 172358740, 1073704220  …  812870699, 1073041398, 1060184256, 1073740245, -1253345191, -727061896, 1196420479, -1690985851, 382, 0]), [1.69662, 1.64343, 1.76243, 1.85251, 1.24353, 1.47309, 1.74671, 1.52653, 1.81725, 1.07697  …  1.24999, 1.33611, 1.53986, 1.45684, 1.42636, 1.84451, 1.74536, 1.72495, 1.33202, 1.99849], UInt128[0x00000000000000000000000000000000, 0x00000000000000000000000000000000, 0x00000000000000000000000000000000, 0x00000000000000000000000000000000, 0x00000000000000000000000000000000, 0x00000000000000000000000000000000, 0x00000000000000000000000000000000, 0x00000000000000000000000000000000, 0x00000000000000000000000000000000, 0x00000000000000000000000000000000  …  0x00000000000000000000000000000000, 0x00000000000000000000000000000000, 0x00000000000000000000000000000000, 0x00000000000000000000000000000000, 0x00000000000000000000000000000000, 0x00000000000000000000000000000000, 0x00000000000000000000000000000000, 0x00000000000000000000000000000000, 0x00000000000000000000000000000000, 0x00000000000000000000000000000000], 870, 0))"
      ]
     },
     "execution_count": 20,
     "metadata": {},
     "output_type": "execute_result"
    }
   ],
   "source": [
    "policy = solve(solver, UAV)"
   ]
  },
  {
   "cell_type": "code",
   "execution_count": 22,
   "metadata": {},
   "outputs": [
    {
     "data": {
      "text/plain": [
       "0-element Array{Any,1}"
      ]
     },
     "execution_count": 22,
     "metadata": {},
     "output_type": "execute_result"
    }
   ],
   "source": [
    "uav_poses = [] # Vector of sequential uav poses\n",
    "target_poses = []"
   ]
  },
  {
   "cell_type": "code",
   "execution_count": 23,
   "metadata": {},
   "outputs": [
    {
     "name": "stdout",
     "output_type": "stream",
     "text": [
      "current_state = mystate([20.0, 3.0, 76.0], -3.141592653589793, [0.475221, 0.536542])\n",
      "current_state = mystate([21.0, 3.0, 75.0], -6.283185307179586, [0.882317, 1.04368])\n",
      "current_state = mystate([20.0, 3.0, 74.0], -9.42477796076938, [1.49502, 1.83431])\n",
      "current_state = mystate([21.0, 3.0, 73.0], -12.566370614359172, [1.73799, 2.2896])\n",
      "current_state = mystate([20.0, 3.0, 72.0], -15.707963267948966, [2.1499, 2.69333])\n",
      "current_state = mystate([21.0, 3.0, 71.0], -18.84955592153876, [2.7326, 3.18587])\n",
      "current_state = mystate([20.0, 3.0, 70.0], -21.991148575128552, [3.43275, 3.62933])\n",
      "current_state = mystate([21.0, 3.0, 69.0], -25.132741228718345, [4.10788, 4.13088])\n",
      "current_state = mystate([20.0, 3.0, 68.0], -28.274333882308138, [4.77178, 4.66245])\n",
      "current_state = mystate([21.0, 3.0, 67.0], -31.41592653589793, [5.19372, 5.02242])\n",
      "current_state = mystate([20.0, 3.0, 66.0], -34.55751918948772, [5.83229, 5.43447])\n",
      "current_state = mystate([21.0, 3.0, 65.0], -37.69911184307752, [6.31748, 5.73688])\n",
      "current_state = mystate([20.0, 3.0, 64.0], -40.840704496667314, [6.87159, 6.16682])\n",
      "current_state = mystate([21.0, 3.0, 63.0], -43.98229715025711, [7.22836, 6.57416])\n",
      "current_state = mystate([20.0, 3.0, 62.0], -47.12388980384691, [7.76126, 7.03533])\n",
      "current_state = mystate([21.0, 3.0, 61.0], -50.265482457436704, [8.17759, 7.5464])\n",
      "current_state = mystate([20.0, 3.0, 60.0], -53.4070751110265, [8.96095, 8.27751])\n",
      "current_state = mystate([21.0, 3.0, 59.0], -56.5486677646163, [9.48256, 8.75741])\n",
      "current_state = mystate([20.0, 3.0, 58.0], -59.690260418206094, [10.1656, 9.18542])\n",
      "current_state = mystate([21.0, 3.0, 57.0], -62.83185307179589, [10.5519, 9.66663])\n",
      "current_state = mystate([20.0, 3.0, 56.0], -65.97344572538569, [10.9281, 10.1192])\n",
      "current_state = mystate([21.0, 3.0, 55.0], -69.11503837897548, [11.5517, 10.518])\n",
      "current_state = mystate([20.0, 3.0, 54.0], -72.25663103256528, [12.1832, 11.0391])\n",
      "current_state = mystate([21.0, 3.0, 53.0], -75.39822368615508, [12.6928, 11.7056])\n",
      "current_state = mystate([20.0, 3.0, 52.0], -78.53981633974487, [13.2675, 12.0868])\n",
      "current_state = mystate([21.0, 3.0, 51.0], -81.68140899333467, [13.7245, 12.5691])\n",
      "current_state = mystate([20.0, 3.0, 50.0], -84.82300164692447, [14.1195, 13.0653])\n",
      "current_state = mystate([21.0, 3.0, 49.0], -87.96459430051426, [14.7392, 13.5299])\n",
      "current_state = mystate([20.0, 3.0, 48.0], -91.10618695410406, [15.1874, 13.9341])\n",
      "current_state = mystate([21.0, 3.0, 47.0], -94.24777960769386, [15.7604, 14.3813])\n",
      "current_state = mystate([20.0, 3.0, 46.0], -97.38937226128365, [16.2191, 15.0134])\n",
      "current_state = mystate([21.0, 3.0, 45.0], -100.53096491487345, [16.7568, 15.5412])\n",
      "current_state = mystate([20.0, 3.0, 44.0], -103.67255756846325, [17.2138, 15.9667])\n",
      "current_state = mystate([21.0, 3.0, 43.0], -106.81415022205304, [17.6738, 16.4683])\n",
      "current_state = mystate([20.0, 3.0, 42.0], -109.95574287564284, [18.1006, 16.7322])\n",
      "current_state = mystate([21.0, 3.0, 41.0], -113.09733552923264, [18.5577, 17.2009])\n",
      "current_state = mystate([20.0, 3.0, 40.0], -116.23892818282243, [19.1843, 17.6714])\n",
      "current_state = mystate([21.0, 3.0, 39.0], -119.38052083641223, [19.61, 18.0915])\n",
      "current_state = mystate([20.0, 3.0, 38.0], -122.52211349000203, [20.077, 18.6039])\n",
      "current_state = mystate([21.0, 3.0, 37.0], -125.66370614359182, [20.5626, 19.0536])\n",
      "current_state = mystate([20.0, 3.0, 36.0], -128.80529879718162, [21.1238, 19.5899])\n",
      "current_state = mystate([21.0, 3.0, 35.0], -131.9468914507714, [21.6904, 20.1424])\n",
      "current_state = mystate([20.0, 3.0, 34.0], -135.08848410436119, [22.2153, 20.7143])\n",
      "current_state = mystate([21.0, 3.0, 33.0], -138.23007675795097, [22.6679, 21.0889])\n",
      "current_state = mystate([20.0, 3.0, 32.0], -141.37166941154075, [23.208, 21.644])\n",
      "current_state = mystate([21.0, 3.0, 31.0], -144.51326206513053, [23.656, 22.0936])\n",
      "current_state = mystate([20.0, 3.0, 30.0], -147.65485471872032, [24.1038, 22.7623])\n",
      "current_state = mystate([21.0, 3.0, 29.0], -150.7964473723101, [24.6893, 23.3097])\n",
      "current_state = mystate([20.0, 3.0, 28.0], -153.93804002589988, [25.3191, 23.8801])\n",
      "current_state = mystate([21.0, 3.0, 27.0], -157.07963267948966, [25.8171, 24.2579])\n",
      "current_state = mystate([20.0, 3.0, 26.0], -160.22122533307945, [26.2762, 24.7199])\n",
      "current_state = mystate([21.0, 3.0, 25.0], -163.36281798666923, [26.8534, 25.2697])\n",
      "current_state = mystate([20.0, 3.0, 24.0], -166.504410640259, [27.1213, 25.6702])\n",
      "current_state = mystate([21.0, 3.0, 23.0], -169.6460032938488, [27.63, 26.1912])\n",
      "current_state = mystate([20.0, 3.0, 22.0], -172.78759594743858, [28.1023, 26.751])\n",
      "current_state = mystate([21.0, 3.0, 21.0], -175.92918860102836, [28.6454, 27.1555])\n",
      "current_state = mystate([20.0, 3.0, 20.0], -179.07078125461814, [29.1988, 27.6575])\n",
      "current_state = mystate([21.0, 3.0, 19.0], -182.21237390820792, [29.4539, 28.0679])\n",
      "current_state = mystate([20.0, 3.0, 18.0], -185.3539665617977, [30.0601, 28.579])\n",
      "current_state = mystate([21.0, 3.0, 17.0], -188.4955592153875, [30.2862, 29.1801])\n",
      "current_state = mystate([20.0, 3.0, 16.0], -191.63715186897727, [30.7426, 29.7363])\n",
      "current_state = mystate([21.0, 3.0, 15.0], -194.77874452256705, [31.3689, 30.1959])\n",
      "current_state = mystate([20.0, 3.0, 14.0], -197.92033717615683, [32.1208, 30.5909])\n",
      "current_state = mystate([21.0, 3.0, 13.0], -201.06192982974662, [32.741, 31.0857])\n",
      "current_state = mystate([20.0, 3.0, 12.0], -204.2035224833364, [33.158, 31.6839])\n",
      "current_state = mystate([21.0, 3.0, 11.0], -207.34511513692618, [33.6756, 32.3425])\n",
      "current_state = mystate([20.0, 3.0, 10.0], -210.48670779051596, [34.1803, 32.8318])\n",
      "current_state = mystate([21.0, 3.0, 9.0], -213.62830044410575, [34.4069, 33.1252])\n",
      "current_state = mystate([20.0, 3.0, 8.0], -216.76989309769553, [34.7444, 33.7413])\n",
      "current_state = mystate([21.0, 3.0, 7.0], -219.9114857512853, [35.3072, 34.1538])\n",
      "current_state = mystate([20.0, 3.0, 6.0], -223.0530784048751, [35.9551, 34.7674])\n",
      "current_state = mystate([21.0, 3.0, 5.0], -226.19467105846488, [36.3909, 35.4255])\n",
      "current_state = mystate([20.0, 3.0, 4.0], -229.33626371205466, [36.8611, 35.9339])\n",
      "current_state = mystate([21.0, 3.0, 3.0], -232.47785636564444, [37.2937, 36.5163])\n",
      "current_state = mystate([20.0, 3.0, 2.0], -235.61944901923422, [37.7435, 37.0567])\n",
      "current_state = mystate([21.0, 3.0, 1.0], -238.761041672824, [38.4186, 37.5009])\n",
      "current_state = mystate([20.0, 3.0, 0.0], -241.9026343264138, [38.8921, 37.87])\n",
      "current_state = mystate([21.0, 3.0, -1.0], -245.04422698000357, [39.3801, 38.3129])\n"
     ]
    }
   ],
   "source": [
    "i=0\n",
    "terminate = false\n",
    "reward_sum = 0\n",
    "\n",
    "current_state = mystate(SVector(rand(1:100),rand(1:100),rand(1:100)),0,SVector(0,0)) ##initialize state\n",
    "\n",
    "while i<500 && !terminate\n",
    "    current_action = action(policy,current_state)\n",
    "    current_reward = myreward(UAV, current_state, current_action)\n",
    "    current_state = generate_s(UAV, current_state, current_action)\n",
    "    push!(uav_poses, current_state.uavPose)\n",
    "    push!(target_poses, current_state.targetPose)\n",
    "    terminate = isterminal(UAV,current_state,current_action)\n",
    "    reward_sum = reward_sum + current_reward\n",
    "    i=i+1\n",
    "    @show current_state\n",
    "end"
   ]
  },
  {
   "cell_type": "code",
   "execution_count": 13,
   "metadata": {},
   "outputs": [
    {
     "name": "stdout",
     "output_type": "stream",
     "text": [
      "\u001b[32m\u001b[1m  Updating\u001b[22m\u001b[39m registry at `~/.julia/registries/General`\n",
      "\u001b[32m\u001b[1m  Updating\u001b[22m\u001b[39m git-repo `https://github.com/JuliaRegistries/General.git`\n",
      "\u001b[?25l\u001b[2K\u001b[?25h\u001b[32m\u001b[1m  Updating\u001b[22m\u001b[39m registry at `~/.julia/registries/JuliaPOMDP`\n",
      "\u001b[32m\u001b[1m  Updating\u001b[22m\u001b[39m git-repo `https://github.com/JuliaPOMDP/Registry`\n",
      "\u001b[?25l\u001b[2K\u001b[?25h\u001b[32m\u001b[1m Resolving\u001b[22m\u001b[39m package versions...\n",
      "\u001b[32m\u001b[1m  Updating\u001b[22m\u001b[39m `~/.julia/environments/v1.0/Project.toml`\n",
      "\u001b[90m [no changes]\u001b[39m\n",
      "\u001b[32m\u001b[1m  Updating\u001b[22m\u001b[39m `~/.julia/environments/v1.0/Manifest.toml`\n",
      "\u001b[90m [no changes]\u001b[39m\n"
     ]
    }
   ],
   "source": [
    "using Pkg\n",
    "Pkg.add(\"DelimitedFiles\")"
   ]
  },
  {
   "cell_type": "code",
   "execution_count": 17,
   "metadata": {},
   "outputs": [],
   "source": [
    "using DelimitedFiles\n",
    "writedlm( \"./uvapos.csv\", uav_poses)\n",
    "writedlm( \"./targetpos.csv\", target_poses)"
   ]
  },
  {
   "cell_type": "code",
   "execution_count": 15,
   "metadata": {},
   "outputs": [
    {
     "data": {
      "text/plain": [
       "31"
      ]
     },
     "execution_count": 15,
     "metadata": {},
     "output_type": "execute_result"
    }
   ],
   "source": []
  },
  {
   "cell_type": "code",
   "execution_count": null,
   "metadata": {},
   "outputs": [],
   "source": []
  },
  {
   "cell_type": "code",
   "execution_count": null,
   "metadata": {},
   "outputs": [],
   "source": []
  }
 ],
 "metadata": {
  "kernelspec": {
   "display_name": "Julia 1.0.0",
   "language": "julia",
   "name": "julia-1.0"
  },
  "language_info": {
   "file_extension": ".jl",
   "mimetype": "application/julia",
   "name": "julia",
   "version": "1.0.0"
  }
 },
 "nbformat": 4,
 "nbformat_minor": 2
}
