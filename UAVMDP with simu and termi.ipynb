{
 "cells": [
  {
   "cell_type": "code",
   "execution_count": 1,
   "metadata": {},
   "outputs": [],
   "source": [
    "using POMDPs\n",
    "using Random \n",
    "using Parameters\n",
    "using StaticArrays\n",
    "using Distributions\n",
    "using MCTS\n",
    "using POMDPSimulators"
   ]
  },
  {
   "cell_type": "code",
   "execution_count": 2,
   "metadata": {},
   "outputs": [
    {
     "data": {
      "text/plain": [
       "UAVMDP"
      ]
     },
     "execution_count": 2,
     "metadata": {},
     "output_type": "execute_result"
    }
   ],
   "source": [
    "const Vec2 = SVector{2, Float64}\n",
    "const Vec3 = SVector{3, Float64}\n",
    "\n",
    "struct mystate\n",
    "    uavPose::Vec3\n",
    "    uavHeading::Float64 # radius\n",
    "    targetPose::Vec2\n",
    "end\n",
    "\n",
    "struct myaction\n",
    "    xy_speed::Float64 # m/s\n",
    "    z_speed::Float64\n",
    "    angle::Float64 # radius\n",
    "end\n",
    "\n",
    "@with_kw mutable struct UAVMDP <: MDP{mystate, myaction}\n",
    "\n",
    "    target_velocity::Vec2 = SVector(0.5,0.5)\n",
    "    target_std::Float64 = 0.1\n",
    "\n",
    "    r_outScene::Float64 = -70\n",
    "    r_action::Float64 = -10\n",
    "    r_reach::Float64 = 100\n",
    "\n",
    "    discount::Float64 = 0.95\n",
    "    \n",
    "    boundary::Int = 100\n",
    "    landing_r::Int = 1\n",
    "\n",
    "end"
   ]
  },
  {
   "cell_type": "code",
   "execution_count": 3,
   "metadata": {},
   "outputs": [],
   "source": [
    "function POMDPs.isterminal(p::UAVMDP,s::mystate,a::myaction)\n",
    "    condition1 = (sqrt((s.uavPose[1]-s.targetPose[1])^2 + (s.uavPose[2]-s.targetPose[2])^2 + s.uavPose[3]^2) < p.landing_r)\n",
    "    condition2 = s.uavPose[1] > p.boundary || s.uavPose[2]>p.boundary || s.uavPose[3]>p.boundary\n",
    "    condition = condition1 || condition2\n",
    "    return condition\n",
    "end"
   ]
  },
  {
   "cell_type": "code",
   "execution_count": 4,
   "metadata": {},
   "outputs": [],
   "source": [
    "function POMDPs.generate_s(p::UAVMDP, s::mystate, a::myaction)\n",
    "    # calculate target state\n",
    "    target_dt_distance = p.target_velocity\n",
    "    sensor_noise = rand(Normal(0, p.target_std), 2)\n",
    "    curr_targ = s.targetPose + target_dt_distance + sensor_noise # next_target_pos(p, s.targetPose)\n",
    "    # calculate UAV state\n",
    "    curr_angle = s.uavHeading + a.angle\n",
    "    xy_dt_distance = a.xy_speed*SVector(cos(curr_angle), sin(curr_angle)) # careful\n",
    "    z_dt_distance = a.z_speed\n",
    "    xyz_dt_distance = SVector(xy_dt_distance[1], xy_dt_distance[2], z_dt_distance)\n",
    "    curr_pos = s.uavPose + xyz_dt_distance\n",
    "    return mystate(curr_pos, curr_angle, curr_targ)\n",
    "end"
   ]
  },
  {
   "cell_type": "code",
   "execution_count": 5,
   "metadata": {},
   "outputs": [
    {
     "data": {
      "text/plain": [
       "myreward (generic function with 1 method)"
      ]
     },
     "execution_count": 5,
     "metadata": {},
     "output_type": "execute_result"
    }
   ],
   "source": [
    "function myreward(p::UAVMDP, s::mystate, a::myaction)\n",
    "    \n",
    "    distance_to_target = sqrt((s.uavPose[1]-s.targetPose[1])^2 + (s.uavPose[2]-s.targetPose[2])^2 + s.uavPose[3]^2)\n",
    "    \n",
    "    reward = p.r_action + 1/(distance_to_target+1)\n",
    "#     out scene punish \n",
    "    if s.uavPose[1]>p.boundary || s.uavPose[2]>p.boundary\n",
    "        reward = reward + p.r_outScene\n",
    "\n",
    "    end\n",
    "    \n",
    "    if distance_to_target < p.landing_r\n",
    "        reward = reward + p.r_reach\n",
    "\n",
    "    end\n",
    "    return reward\n",
    "end"
   ]
  },
  {
   "cell_type": "code",
   "execution_count": 6,
   "metadata": {},
   "outputs": [],
   "source": [
    "function POMDPs.actions(p::UAVMDP)\n",
    "    action_space = [myaction(i, j, k) for i=-5.0:5.0,j=-pi:pi,k=-5.0:5.0]\n",
    "    return action_space\n",
    "end"
   ]
  },
  {
   "cell_type": "code",
   "execution_count": 7,
   "metadata": {},
   "outputs": [],
   "source": [
    "function POMDPs.generate_sr(p::UAVMDP, s::mystate, a::myaction, rng::AbstractRNG)\n",
    "    sp = generate_s(p, s, a)\n",
    "    r = myreward(p, s, a)\n",
    "    return sp, r\n",
    "end"
   ]
  },
  {
   "cell_type": "code",
   "execution_count": 8,
   "metadata": {},
   "outputs": [
    {
     "data": {
      "text/plain": [
       "UAVMDP\n",
       "  target_velocity: SArray{Tuple{2},Float64,1,2}\n",
       "  target_std: Float64 0.1\n",
       "  r_outScene: Float64 -70.0\n",
       "  r_action: Float64 -10.0\n",
       "  r_reach: Float64 100.0\n",
       "  discount: Float64 0.95\n",
       "  boundary: Int64 100\n",
       "  landing_r: Int64 1\n"
      ]
     },
     "execution_count": 8,
     "metadata": {},
     "output_type": "execute_result"
    }
   ],
   "source": [
    "POMDPs.initialstate_distribution(p::UAVMDP) = mystate(SVector(10,10,10),0,SVector(0,0))\n",
    "POMDPs.discount(p::UAVMDP) = p.discount\n",
    "solver = MCTSSolver(n_iterations=50, depth=20, exploration_constant=5.0)\n",
    "UAV = UAVMDP()"
   ]
  },
  {
   "cell_type": "code",
   "execution_count": 9,
   "metadata": {},
   "outputs": [
    {
     "data": {
      "text/plain": [
       "MCTSPlanner{UAVMDP,mystate,myaction,MCTS.SolvedRolloutEstimator{POMDPPolicies.RandomPolicy{MersenneTwister,UAVMDP,BeliefUpdaters.NothingUpdater},MersenneTwister},MersenneTwister}(MCTSSolver(50, 20, 5.0, MersenneTwister(UInt32[0x83ee6371, 0x174cdc46, 0x7daff883, 0x89f1118a], Random.DSFMT.DSFMT_state(Int32[-905514297, 1072999738, 1230926512, 1073651734, 987221518, 1072774405, 813077998, 1073214496, 461231546, 1073022810  …  -637725736, 1072985778, 960321467, 1072905774, 345256196, 341884571, -1152262157, 1418562127, 382, 0]), [0.0, 0.0, 0.0, 0.0, 0.0, 0.0, 0.0, 0.0, 0.0, 0.0  …  0.0, 0.0, 0.0, 0.0, 0.0, 0.0, 0.0, 0.0, 0.0, 0.0], UInt128[0x00000000000000000000000000000000, 0x00000000000000000000000000000000, 0x00000000000000000000000000000000, 0x00000000000000000000000000000000, 0x00000000000000000000000000000000, 0x00000000000000000000000000000000, 0x00000000000000000000000000000000, 0x00000000000000000000000000000000, 0x00000000000000000000000000000000, 0x00000000000000000000000000000000  …  0x00000000000000000000000000000000, 0x00000000000000000000000000000000, 0x00000000000000000000000000000000, 0x00000000000000000000000000000000, 0x00000000000000000000000000000000, 0x00000000000000000000000000000000, 0x00000000000000000000000000000000, 0x00000000000000000000000000000000, 0x00000000000000000000000000000000, 0x00000000000000000000000000000000], 1002, 0), RolloutEstimator(POMDPPolicies.RandomSolver(MersenneTwister(UInt32[0x83ee6371, 0x174cdc46, 0x7daff883, 0x89f1118a], Random.DSFMT.DSFMT_state(Int32[-905514297, 1072999738, 1230926512, 1073651734, 987221518, 1072774405, 813077998, 1073214496, 461231546, 1073022810  …  -637725736, 1072985778, 960321467, 1072905774, 345256196, 341884571, -1152262157, 1418562127, 382, 0]), [0.0, 0.0, 0.0, 0.0, 0.0, 0.0, 0.0, 0.0, 0.0, 0.0  …  0.0, 0.0, 0.0, 0.0, 0.0, 0.0, 0.0, 0.0, 0.0, 0.0], UInt128[0x00000000000000000000000000000000, 0x00000000000000000000000000000000, 0x00000000000000000000000000000000, 0x00000000000000000000000000000000, 0x00000000000000000000000000000000, 0x00000000000000000000000000000000, 0x00000000000000000000000000000000, 0x00000000000000000000000000000000, 0x00000000000000000000000000000000, 0x00000000000000000000000000000000  …  0x00000000000000000000000000000000, 0x00000000000000000000000000000000, 0x00000000000000000000000000000000, 0x00000000000000000000000000000000, 0x00000000000000000000000000000000, 0x00000000000000000000000000000000, 0x00000000000000000000000000000000, 0x00000000000000000000000000000000, 0x00000000000000000000000000000000, 0x00000000000000000000000000000000], 1002, 0))), 0.0, 0, false, false), UAVMDP\n",
       "  target_velocity: SArray{Tuple{2},Float64,1,2}\n",
       "  target_std: Float64 0.1\n",
       "  r_outScene: Float64 -70.0\n",
       "  r_action: Float64 -10.0\n",
       "  r_reach: Float64 100.0\n",
       "  discount: Float64 0.95\n",
       "  boundary: Int64 100\n",
       "  landing_r: Int64 1\n",
       ", MCTS.MCTSTree{mystate,myaction}(Dict{mystate,Int64}(), Array{Int64,1}[], Int64[], mystate[], Int64[], Float64[], myaction[], Dict{Pair{Int64,Int64},Int64}()), MCTS.SolvedRolloutEstimator{POMDPPolicies.RandomPolicy{MersenneTwister,UAVMDP,BeliefUpdaters.NothingUpdater},MersenneTwister}(POMDPPolicies.RandomPolicy{MersenneTwister,UAVMDP,BeliefUpdaters.NothingUpdater}(MersenneTwister(UInt32[0x83ee6371, 0x174cdc46, 0x7daff883, 0x89f1118a], Random.DSFMT.DSFMT_state(Int32[-905514297, 1072999738, 1230926512, 1073651734, 987221518, 1072774405, 813077998, 1073214496, 461231546, 1073022810  …  -637725736, 1072985778, 960321467, 1072905774, 345256196, 341884571, -1152262157, 1418562127, 382, 0]), [0.0, 0.0, 0.0, 0.0, 0.0, 0.0, 0.0, 0.0, 0.0, 0.0  …  0.0, 0.0, 0.0, 0.0, 0.0, 0.0, 0.0, 0.0, 0.0, 0.0], UInt128[0x00000000000000000000000000000000, 0x00000000000000000000000000000000, 0x00000000000000000000000000000000, 0x00000000000000000000000000000000, 0x00000000000000000000000000000000, 0x00000000000000000000000000000000, 0x00000000000000000000000000000000, 0x00000000000000000000000000000000, 0x00000000000000000000000000000000, 0x00000000000000000000000000000000  …  0x00000000000000000000000000000000, 0x00000000000000000000000000000000, 0x00000000000000000000000000000000, 0x00000000000000000000000000000000, 0x00000000000000000000000000000000, 0x00000000000000000000000000000000, 0x00000000000000000000000000000000, 0x00000000000000000000000000000000, 0x00000000000000000000000000000000, 0x00000000000000000000000000000000], 1002, 0), UAVMDP\n",
       "  target_velocity: SArray{Tuple{2},Float64,1,2}\n",
       "  target_std: Float64 0.1\n",
       "  r_outScene: Float64 -70.0\n",
       "  r_action: Float64 -10.0\n",
       "  r_reach: Float64 100.0\n",
       "  discount: Float64 0.95\n",
       "  boundary: Int64 100\n",
       "  landing_r: Int64 1\n",
       ", BeliefUpdaters.NothingUpdater()), MersenneTwister(UInt32[0x83ee6371, 0x174cdc46, 0x7daff883, 0x89f1118a], Random.DSFMT.DSFMT_state(Int32[-905514297, 1072999738, 1230926512, 1073651734, 987221518, 1072774405, 813077998, 1073214496, 461231546, 1073022810  …  -637725736, 1072985778, 960321467, 1072905774, 345256196, 341884571, -1152262157, 1418562127, 382, 0]), [0.0, 0.0, 0.0, 0.0, 0.0, 0.0, 0.0, 0.0, 0.0, 0.0  …  0.0, 0.0, 0.0, 0.0, 0.0, 0.0, 0.0, 0.0, 0.0, 0.0], UInt128[0x00000000000000000000000000000000, 0x00000000000000000000000000000000, 0x00000000000000000000000000000000, 0x00000000000000000000000000000000, 0x00000000000000000000000000000000, 0x00000000000000000000000000000000, 0x00000000000000000000000000000000, 0x00000000000000000000000000000000, 0x00000000000000000000000000000000, 0x00000000000000000000000000000000  …  0x00000000000000000000000000000000, 0x00000000000000000000000000000000, 0x00000000000000000000000000000000, 0x00000000000000000000000000000000, 0x00000000000000000000000000000000, 0x00000000000000000000000000000000, 0x00000000000000000000000000000000, 0x00000000000000000000000000000000, 0x00000000000000000000000000000000, 0x00000000000000000000000000000000], 1002, 0)), MersenneTwister(UInt32[0x83ee6371, 0x174cdc46, 0x7daff883, 0x89f1118a], Random.DSFMT.DSFMT_state(Int32[-905514297, 1072999738, 1230926512, 1073651734, 987221518, 1072774405, 813077998, 1073214496, 461231546, 1073022810  …  -637725736, 1072985778, 960321467, 1072905774, 345256196, 341884571, -1152262157, 1418562127, 382, 0]), [0.0, 0.0, 0.0, 0.0, 0.0, 0.0, 0.0, 0.0, 0.0, 0.0  …  0.0, 0.0, 0.0, 0.0, 0.0, 0.0, 0.0, 0.0, 0.0, 0.0], UInt128[0x00000000000000000000000000000000, 0x00000000000000000000000000000000, 0x00000000000000000000000000000000, 0x00000000000000000000000000000000, 0x00000000000000000000000000000000, 0x00000000000000000000000000000000, 0x00000000000000000000000000000000, 0x00000000000000000000000000000000, 0x00000000000000000000000000000000, 0x00000000000000000000000000000000  …  0x00000000000000000000000000000000, 0x00000000000000000000000000000000, 0x00000000000000000000000000000000, 0x00000000000000000000000000000000, 0x00000000000000000000000000000000, 0x00000000000000000000000000000000, 0x00000000000000000000000000000000, 0x00000000000000000000000000000000, 0x00000000000000000000000000000000, 0x00000000000000000000000000000000], 1002, 0))"
      ]
     },
     "execution_count": 9,
     "metadata": {},
     "output_type": "execute_result"
    }
   ],
   "source": [
    "policy = solve(solver, UAV)"
   ]
  },
  {
   "cell_type": "code",
   "execution_count": 10,
   "metadata": {},
   "outputs": [
    {
     "data": {
      "text/plain": [
       "myaction(1.0, 0.8584073464102069, -5.0)"
      ]
     },
     "execution_count": 10,
     "metadata": {},
     "output_type": "execute_result"
    }
   ],
   "source": [
    "###trial\n",
    "a = action(policy,mystate(SVector(10,10,10),0,SVector(0,0)))"
   ]
  },
  {
   "cell_type": "code",
   "execution_count": 22,
   "metadata": {},
   "outputs": [
    {
     "name": "stdout",
     "output_type": "stream",
     "text": [
      "reward_sum = -9.945416360950874\n",
      "reward_sum = -19.892611238537526\n",
      "reward_sum = -29.839288352942816\n",
      "reward_sum = -39.784183337634154\n",
      "reward_sum = -49.728654132570036\n",
      "reward_sum = -59.67523205830949\n",
      "reward_sum = -69.62371946392753\n",
      "reward_sum = -79.57281179026734\n",
      "reward_sum = -89.52173553044395\n",
      "reward_sum = -99.47154249664548\n",
      "reward_sum = -109.42358243645722\n",
      "reward_sum = -119.37747442365304\n",
      "reward_sum = -129.33241726863\n",
      "reward_sum = -139.28822210882902\n",
      "reward_sum = -149.24527999388985\n",
      "reward_sum = -159.20394359222382\n",
      "reward_sum = -169.16403554690172\n",
      "reward_sum = -179.12530266864397\n",
      "reward_sum = -189.08761934082995\n",
      "reward_sum = -199.05103138632967\n",
      "reward_sum = -209.0155570092085\n",
      "reward_sum = -218.98118732428375\n",
      "reward_sum = -228.94790491293293\n",
      "reward_sum = -238.91566509085757\n",
      "reward_sum = -248.88429753496632\n",
      "reward_sum = -258.85371805662163\n",
      "reward_sum = -268.8239884537259\n",
      "reward_sum = -278.79525490188644\n",
      "reward_sum = -288.76741437963716\n",
      "reward_sum = -298.740256035213\n",
      "reward_sum = -308.71362805753654\n",
      "reward_sum = -318.68766389864066\n",
      "reward_sum = -328.66249788413006\n",
      "reward_sum = -338.6380251569773\n",
      "reward_sum = -348.6140783382405\n",
      "reward_sum = -358.590544266478\n",
      "reward_sum = -368.56756729637124\n",
      "reward_sum = -378.5452506411583\n",
      "reward_sum = -388.5235118420573\n",
      "reward_sum = -398.50218978381923\n",
      "reward_sum = -408.4811938781493\n",
      "reward_sum = -418.46065201408993\n",
      "reward_sum = -428.44068912832137\n",
      "reward_sum = -438.421192979252\n",
      "reward_sum = -448.40198189699447\n",
      "reward_sum = -458.3830358001929\n",
      "reward_sum = -468.364493937083\n",
      "reward_sum = -478.3464503220857\n",
      "reward_sum = -488.3287864171226\n",
      "reward_sum = -498.3113546173351\n",
      "reward_sum = -508.29415724018645\n",
      "reward_sum = -518.2773153753493\n",
      "reward_sum = -528.2608848583379\n",
      "reward_sum = -538.2447710123631\n",
      "reward_sum = -548.2288463701576\n",
      "reward_sum = -558.2131117493062\n",
      "reward_sum = -568.1976935418988\n",
      "reward_sum = -578.182629265657\n",
      "reward_sum = -588.1678117721984\n",
      "reward_sum = -598.1531585538928\n",
      "reward_sum = -608.1386733983979\n",
      "reward_sum = -618.124460578493\n",
      "reward_sum = -628.1105579563415\n",
      "reward_sum = -638.0968553096034\n",
      "reward_sum = -648.0832546272915\n",
      "reward_sum = -658.0698087314647\n",
      "reward_sum = -668.056604262482\n",
      "reward_sum = -678.0436582294261\n",
      "reward_sum = -688.030869557354\n",
      "reward_sum = -698.0181846182622\n",
      "reward_sum = -708.0056418388049\n",
      "reward_sum = -717.9933137104717\n",
      "reward_sum = -727.9812135240627\n",
      "reward_sum = -737.9692499036618\n",
      "reward_sum = -747.9573813442357\n",
      "reward_sum = -757.9456399859446\n",
      "reward_sum = -767.9340965479065\n",
      "reward_sum = -777.9227397837036\n",
      "reward_sum = -787.911490791281\n",
      "reward_sum = -797.900318226832\n",
      "reward_sum = -807.8892645731197\n",
      "reward_sum = -817.8783891184935\n",
      "reward_sum = -827.8676805713459\n",
      "reward_sum = -837.8570698922454\n",
      "reward_sum = -847.846518739533\n",
      "reward_sum = -857.8360823783502\n",
      "reward_sum = -867.8258160186682\n",
      "reward_sum = -877.8156898664938\n",
      "reward_sum = -887.8056478547975\n",
      "reward_sum = -897.7956681594936\n",
      "reward_sum = -907.7858001489036\n",
      "reward_sum = -917.7760936709234\n",
      "reward_sum = -927.7665121374586\n",
      "reward_sum = -937.756995607558\n",
      "reward_sum = -947.7475328797887\n",
      "reward_sum = -957.7381729545403\n",
      "reward_sum = -967.7289550871923\n",
      "reward_sum = -977.7198439125123\n",
      "reward_sum = -987.7107920397307\n",
      "reward_sum = -997.701798874797\n"
     ]
    }
   ],
   "source": [
    "i=0\n",
    "terminate = false\n",
    "reward_sum = 0\n",
    "\n",
    "current_state = mystate(SVector(10,10,10),0,SVector(0,0)) ##initialize state\n",
    "\n",
    "while i<100 && !terminate\n",
    "    current_action = action(policy,current_state)\n",
    "    current_reward = myreward(UAV, current_state, current_action)\n",
    "    current_state = generate_s(UAV, current_state, current_action)\n",
    "    terminate = isterminal(UAV,current_state,current_action)\n",
    "    reward_sum = reward_sum + current_reward\n",
    "    i=i+1\n",
    "    @show reward_sum\n",
    "end"
   ]
  },
  {
   "cell_type": "code",
   "execution_count": null,
   "metadata": {},
   "outputs": [],
   "source": []
  }
 ],
 "metadata": {
  "kernelspec": {
   "display_name": "Julia 1.0.0",
   "language": "julia",
   "name": "julia-1.0"
  },
  "language_info": {
   "file_extension": ".jl",
   "mimetype": "application/julia",
   "name": "julia",
   "version": "1.0.0"
  }
 },
 "nbformat": 4,
 "nbformat_minor": 2
}
