{
 "cells": [
  {
   "cell_type": "code",
   "execution_count": 19,
   "metadata": {},
   "outputs": [
    {
     "name": "stdout",
     "output_type": "stream",
     "text": [
      "\u001b[32m\u001b[1m Resolving\u001b[22m\u001b[39m package versions...\n",
      "\u001b[32m\u001b[1m  Updating\u001b[22m\u001b[39m `~/.julia/environments/v1.0/Project.toml`\n",
      "\u001b[90m [no changes]\u001b[39m\n",
      "\u001b[32m\u001b[1m  Updating\u001b[22m\u001b[39m `~/.julia/environments/v1.0/Manifest.toml`\n",
      "\u001b[90m [no changes]\u001b[39m\n"
     ]
    }
   ],
   "source": [
    "using Pkg\n",
    "Pkg.add(\"FIB\")\n",
    "Pkg.add(\"Parameters\")\n",
    "Pkg.add(\"StaticArrays\")\n"
   ]
  },
  {
   "cell_type": "code",
   "execution_count": 23,
   "metadata": {},
   "outputs": [],
   "source": [
    "using POMDPs\n",
    "using Random \n",
    "using Parameters\n",
    "using StaticArrays\n",
    "using Distributions\n",
    "using FIB\n",
    "using MCTS"
   ]
  },
  {
   "cell_type": "code",
   "execution_count": 24,
   "metadata": {},
   "outputs": [
    {
     "data": {
      "text/plain": [
       "SArray{Tuple{3},Float64,1,3}"
      ]
     },
     "execution_count": 24,
     "metadata": {},
     "output_type": "execute_result"
    }
   ],
   "source": [
    "const Vec2 = SVector{2, Float64}\n",
    "const Vec3 = SVector{3, Float64}"
   ]
  },
  {
   "cell_type": "code",
   "execution_count": 31,
   "metadata": {},
   "outputs": [
    {
     "data": {
      "text/plain": [
       "UAVMDP"
      ]
     },
     "execution_count": 31,
     "metadata": {},
     "output_type": "execute_result"
    }
   ],
   "source": [
    "struct mystate\n",
    "    uavPose::Vec3\n",
    "    uavHeading::Float64 # radius\n",
    "    targetPose::Vec2\n",
    "end\n",
    "\n",
    "struct myaction\n",
    "    xy_speed::Float64 # m/s\n",
    "    z_speed::Float64\n",
    "    angle::Float64 # radius\n",
    "end\n",
    "\n",
    "@with_kw mutable struct UAVMDP <: MDP{mystate, myaction}\n",
    "\n",
    "    target_velocity::Vec2 = SVector(0.5,0.5)\n",
    "    target_std::Float64 = 0.1\n",
    "\n",
    "    r_outScene::Float64 = -70\n",
    "    r_action::Float64 = -10\n",
    "    r_reach::Float64 = 100\n",
    "\n",
    "    discount::Float64 = 0.95\n",
    "    \n",
    "    boundary::Int = 100\n",
    "    landing_r::Int = 1\n",
    "end"
   ]
  },
  {
   "cell_type": "code",
   "execution_count": 33,
   "metadata": {},
   "outputs": [
    {
     "data": {
      "text/plain": [
       "isterminal (generic function with 1 method)"
      ]
     },
     "execution_count": 33,
     "metadata": {},
     "output_type": "execute_result"
    }
   ],
   "source": [
    "# tolenrance can be changed\n",
    "isterminal(p::UAVMDP,s::mystate) = sqrt((s.uavPose[1]-s.targetPose[1])^2 + (s.uavPose[2]-s.targetPose[2])^2)< tol || norm(s.uavPose)>p.boundary"
   ]
  },
  {
   "cell_type": "code",
   "execution_count": 34,
   "metadata": {},
   "outputs": [],
   "source": [
    "function POMDPs.generate_s(p::UAVMDP, s::mystate, a::myaction)\n",
    "    # calculate target state\n",
    "    target_dt_distance = p.target_velocity\n",
    "    sensor_noise = rand(Normal(0, p.target_std), 2)\n",
    "    curr_targ = s.targetPose + target_dt_distance + sensor_noise # next_target_pos(p, s.targetPose)\n",
    "    # calculate UAV state\n",
    "    curr_angle = s.uavHeading + a.angle\n",
    "    xy_dt_distance = a.xy_speed*SVector(cos(curr_angle), sin(curr_angle)) # careful\n",
    "    z_dt_distance = a.z_speed\n",
    "    xyz_dt_distance = SVector(xy_dt_distance[1], xy_dt_distance[2], z_dt_distance)\n",
    "    curr_pos = s.uavPose + xyz_dt_distance\n",
    "    return mystate(curr_pos, curr_angle, curr_targ)\n",
    "end"
   ]
  },
  {
   "cell_type": "code",
   "execution_count": 35,
   "metadata": {},
   "outputs": [
    {
     "data": {
      "text/plain": [
       "myreward (generic function with 1 method)"
      ]
     },
     "execution_count": 35,
     "metadata": {},
     "output_type": "execute_result"
    }
   ],
   "source": [
    "function myreward(p::UAVMDP, s::mystate, a::myaction)\n",
    "    \n",
    "    distance_to_target = sqrt((s.uavPose[1]-s.targetPose[1])^2 + (s.uavPose[2]-s.targetPose[2])^2 + s.uavPose[3]^2)\n",
    "    \n",
    "    reward = p.r_action + 1/(distance_to_target+1)\n",
    "#     out scene punish \n",
    "    if s.uavPose[1]>p.boundary || s.uavPose[2]>p.boundary\n",
    "        reward = reward + p.r_outScene\n",
    "        p.mission_end = true \n",
    "    end\n",
    "    \n",
    "    if distance_to_target < p.landing_r\n",
    "        reward = reward + p.r_reach\n",
    "        p.mission_end = true\n",
    "    end\n",
    "    return reward\n",
    "end"
   ]
  },
  {
   "cell_type": "code",
   "execution_count": 36,
   "metadata": {},
   "outputs": [],
   "source": [
    "function POMDPs.actions(p::UAVMDP)\n",
    "    action_space = [myaction(i, j, k) for i=-5.0:5.0,j=-pi:pi,k=-5.0:5.0]\n",
    "    return action_space\n",
    "end"
   ]
  },
  {
   "cell_type": "code",
   "execution_count": 37,
   "metadata": {},
   "outputs": [],
   "source": [
    "function POMDPs.generate_sr(p::UAVMDP, s::mystate, a::myaction, rng::AbstractRNG)\n",
    "    sp = generate_s(p, s, a)\n",
    "    r = myreward(p, s, a)\n",
    "    return sp, r\n",
    "end"
   ]
  },
  {
   "cell_type": "code",
   "execution_count": 38,
   "metadata": {},
   "outputs": [
    {
     "data": {
      "text/plain": [
       "UAVMDP\n",
       "  target_velocity: SArray{Tuple{2},Float64,1,2}\n",
       "  target_std: Float64 0.1\n",
       "  r_outScene: Float64 -70.0\n",
       "  r_action: Float64 -10.0\n",
       "  r_reach: Float64 100.0\n",
       "  discount: Float64 0.95\n",
       "  boundary: Int64 100\n",
       "  landing_r: Int64 1\n"
      ]
     },
     "execution_count": 38,
     "metadata": {},
     "output_type": "execute_result"
    }
   ],
   "source": [
    "POMDPs.initialstate_distribution(p::UAVMDP) = Determinstic(mystate(SVector(10,10,10),0,SVector(0,0)))\n",
    "POMDPs.discount(p::UAVMDP) = p.discount\n",
    "solver = MCTSSolver(n_iterations=50, depth=20, exploration_constant=5.0)\n",
    "UAV = UAVMDP()"
   ]
  },
  {
   "cell_type": "code",
   "execution_count": 39,
   "metadata": {},
   "outputs": [
    {
     "data": {
      "text/plain": [
       "MCTSPlanner{UAVMDP,mystate,myaction,MCTS.SolvedRolloutEstimator{POMDPPolicies.RandomPolicy{MersenneTwister,UAVMDP,BeliefUpdaters.NothingUpdater},MersenneTwister},MersenneTwister}(MCTSSolver(50, 20, 5.0, MersenneTwister(UInt32[0xac3a4c65, 0xcb160085, 0xfde8247d, 0x5795a2b2], Random.DSFMT.DSFMT_state(Int32[1881025636, 1072710410, -630953235, 1072707728, 1766195831, 1072966342, -2086708029, 1073016965, -685799300, 1073421160  …  -2092019959, 1073030175, -337879850, 1073187049, 846234779, 1115230528, -68748774, 968711016, 382, 0]), [1.61562, 1.5209, 1.63043, 1.93054, 1.00505, 1.6204, 1.57115, 1.88707, 1.46959, 1.26853  …  1.25298, 1.25967, 1.23643, 1.83813, 1.94244, 1.35332, 1.87323, 1.10955, 1.32132, 1.47093], UInt128[0x00000000000000000000000000000000, 0x00000000000000000000000000000000, 0x00000000000000000000000000000000, 0x00000000000000000000000000000000, 0x00000000000000000000000000000000, 0x00000000000000000000000000000000, 0x00000000000000000000000000000000, 0x00000000000000000000000000000000, 0x00000000000000000000000000000000, 0x00000000000000000000000000000000  …  0x00000000000000000000000000000000, 0x00000000000000000000000000000000, 0x00000000000000000000000000000000, 0x00000000000000000000000000000000, 0x00000000000000000000000000000000, 0x00000000000000000000000000000000, 0x00000000000000000000000000000000, 0x00000000000000000000000000000000, 0x00000000000000000000000000000000, 0x00000000000000000000000000000000], 499, 0), RolloutEstimator(POMDPPolicies.RandomSolver(MersenneTwister(UInt32[0xac3a4c65, 0xcb160085, 0xfde8247d, 0x5795a2b2], Random.DSFMT.DSFMT_state(Int32[1881025636, 1072710410, -630953235, 1072707728, 1766195831, 1072966342, -2086708029, 1073016965, -685799300, 1073421160  …  -2092019959, 1073030175, -337879850, 1073187049, 846234779, 1115230528, -68748774, 968711016, 382, 0]), [1.61562, 1.5209, 1.63043, 1.93054, 1.00505, 1.6204, 1.57115, 1.88707, 1.46959, 1.26853  …  1.25298, 1.25967, 1.23643, 1.83813, 1.94244, 1.35332, 1.87323, 1.10955, 1.32132, 1.47093], UInt128[0x00000000000000000000000000000000, 0x00000000000000000000000000000000, 0x00000000000000000000000000000000, 0x00000000000000000000000000000000, 0x00000000000000000000000000000000, 0x00000000000000000000000000000000, 0x00000000000000000000000000000000, 0x00000000000000000000000000000000, 0x00000000000000000000000000000000, 0x00000000000000000000000000000000  …  0x00000000000000000000000000000000, 0x00000000000000000000000000000000, 0x00000000000000000000000000000000, 0x00000000000000000000000000000000, 0x00000000000000000000000000000000, 0x00000000000000000000000000000000, 0x00000000000000000000000000000000, 0x00000000000000000000000000000000, 0x00000000000000000000000000000000, 0x00000000000000000000000000000000], 499, 0))), 0.0, 0, false, false), UAVMDP\n",
       "  target_velocity: SArray{Tuple{2},Float64,1,2}\n",
       "  target_std: Float64 0.1\n",
       "  r_outScene: Float64 -70.0\n",
       "  r_action: Float64 -10.0\n",
       "  r_reach: Float64 100.0\n",
       "  discount: Float64 0.95\n",
       "  boundary: Int64 100\n",
       "  landing_r: Int64 1\n",
       ", MCTS.MCTSTree{mystate,myaction}(Dict{mystate,Int64}(), Array{Int64,1}[], Int64[], mystate[], Int64[], Float64[], myaction[], Dict{Pair{Int64,Int64},Int64}()), MCTS.SolvedRolloutEstimator{POMDPPolicies.RandomPolicy{MersenneTwister,UAVMDP,BeliefUpdaters.NothingUpdater},MersenneTwister}(POMDPPolicies.RandomPolicy{MersenneTwister,UAVMDP,BeliefUpdaters.NothingUpdater}(MersenneTwister(UInt32[0xac3a4c65, 0xcb160085, 0xfde8247d, 0x5795a2b2], Random.DSFMT.DSFMT_state(Int32[1881025636, 1072710410, -630953235, 1072707728, 1766195831, 1072966342, -2086708029, 1073016965, -685799300, 1073421160  …  -2092019959, 1073030175, -337879850, 1073187049, 846234779, 1115230528, -68748774, 968711016, 382, 0]), [1.61562, 1.5209, 1.63043, 1.93054, 1.00505, 1.6204, 1.57115, 1.88707, 1.46959, 1.26853  …  1.25298, 1.25967, 1.23643, 1.83813, 1.94244, 1.35332, 1.87323, 1.10955, 1.32132, 1.47093], UInt128[0x00000000000000000000000000000000, 0x00000000000000000000000000000000, 0x00000000000000000000000000000000, 0x00000000000000000000000000000000, 0x00000000000000000000000000000000, 0x00000000000000000000000000000000, 0x00000000000000000000000000000000, 0x00000000000000000000000000000000, 0x00000000000000000000000000000000, 0x00000000000000000000000000000000  …  0x00000000000000000000000000000000, 0x00000000000000000000000000000000, 0x00000000000000000000000000000000, 0x00000000000000000000000000000000, 0x00000000000000000000000000000000, 0x00000000000000000000000000000000, 0x00000000000000000000000000000000, 0x00000000000000000000000000000000, 0x00000000000000000000000000000000, 0x00000000000000000000000000000000], 499, 0), UAVMDP\n",
       "  target_velocity: SArray{Tuple{2},Float64,1,2}\n",
       "  target_std: Float64 0.1\n",
       "  r_outScene: Float64 -70.0\n",
       "  r_action: Float64 -10.0\n",
       "  r_reach: Float64 100.0\n",
       "  discount: Float64 0.95\n",
       "  boundary: Int64 100\n",
       "  landing_r: Int64 1\n",
       ", BeliefUpdaters.NothingUpdater()), MersenneTwister(UInt32[0xac3a4c65, 0xcb160085, 0xfde8247d, 0x5795a2b2], Random.DSFMT.DSFMT_state(Int32[1881025636, 1072710410, -630953235, 1072707728, 1766195831, 1072966342, -2086708029, 1073016965, -685799300, 1073421160  …  -2092019959, 1073030175, -337879850, 1073187049, 846234779, 1115230528, -68748774, 968711016, 382, 0]), [1.61562, 1.5209, 1.63043, 1.93054, 1.00505, 1.6204, 1.57115, 1.88707, 1.46959, 1.26853  …  1.25298, 1.25967, 1.23643, 1.83813, 1.94244, 1.35332, 1.87323, 1.10955, 1.32132, 1.47093], UInt128[0x00000000000000000000000000000000, 0x00000000000000000000000000000000, 0x00000000000000000000000000000000, 0x00000000000000000000000000000000, 0x00000000000000000000000000000000, 0x00000000000000000000000000000000, 0x00000000000000000000000000000000, 0x00000000000000000000000000000000, 0x00000000000000000000000000000000, 0x00000000000000000000000000000000  …  0x00000000000000000000000000000000, 0x00000000000000000000000000000000, 0x00000000000000000000000000000000, 0x00000000000000000000000000000000, 0x00000000000000000000000000000000, 0x00000000000000000000000000000000, 0x00000000000000000000000000000000, 0x00000000000000000000000000000000, 0x00000000000000000000000000000000, 0x00000000000000000000000000000000], 499, 0)), MersenneTwister(UInt32[0xac3a4c65, 0xcb160085, 0xfde8247d, 0x5795a2b2], Random.DSFMT.DSFMT_state(Int32[1881025636, 1072710410, -630953235, 1072707728, 1766195831, 1072966342, -2086708029, 1073016965, -685799300, 1073421160  …  -2092019959, 1073030175, -337879850, 1073187049, 846234779, 1115230528, -68748774, 968711016, 382, 0]), [1.61562, 1.5209, 1.63043, 1.93054, 1.00505, 1.6204, 1.57115, 1.88707, 1.46959, 1.26853  …  1.25298, 1.25967, 1.23643, 1.83813, 1.94244, 1.35332, 1.87323, 1.10955, 1.32132, 1.47093], UInt128[0x00000000000000000000000000000000, 0x00000000000000000000000000000000, 0x00000000000000000000000000000000, 0x00000000000000000000000000000000, 0x00000000000000000000000000000000, 0x00000000000000000000000000000000, 0x00000000000000000000000000000000, 0x00000000000000000000000000000000, 0x00000000000000000000000000000000, 0x00000000000000000000000000000000  …  0x00000000000000000000000000000000, 0x00000000000000000000000000000000, 0x00000000000000000000000000000000, 0x00000000000000000000000000000000, 0x00000000000000000000000000000000, 0x00000000000000000000000000000000, 0x00000000000000000000000000000000, 0x00000000000000000000000000000000, 0x00000000000000000000000000000000, 0x00000000000000000000000000000000], 499, 0))"
      ]
     },
     "execution_count": 39,
     "metadata": {},
     "output_type": "execute_result"
    }
   ],
   "source": [
    "policy = solve(solver, UAV)"
   ]
  },
  {
   "cell_type": "code",
   "execution_count": 40,
   "metadata": {},
   "outputs": [
    {
     "data": {
      "text/plain": [
       "myaction(1.0, 0.8584073464102069, -5.0)"
      ]
     },
     "execution_count": 40,
     "metadata": {},
     "output_type": "execute_result"
    }
   ],
   "source": [
    "a = action(policy,mystate(SVector(10,10,10),0,SVector(0,0)))"
   ]
  },
  {
   "cell_type": "code",
   "execution_count": null,
   "metadata": {},
   "outputs": [],
   "source": []
  },
  {
   "cell_type": "code",
   "execution_count": null,
   "metadata": {},
   "outputs": [],
   "source": []
  },
  {
   "cell_type": "code",
   "execution_count": null,
   "metadata": {},
   "outputs": [],
   "source": []
  }
 ],
 "metadata": {
  "kernelspec": {
   "display_name": "Julia 1.0.0",
   "language": "julia",
   "name": "julia-1.0"
  },
  "language_info": {
   "file_extension": ".jl",
   "mimetype": "application/julia",
   "name": "julia",
   "version": "1.0.0"
  }
 },
 "nbformat": 4,
 "nbformat_minor": 2
}
