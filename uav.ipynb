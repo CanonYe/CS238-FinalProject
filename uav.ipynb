{
 "cells": [
  {
   "cell_type": "code",
   "execution_count": 1,
   "metadata": {},
   "outputs": [],
   "source": [
    "using POMDPs\n",
    "using Random\n",
    "using POMDPModelTools\n",
    "using StaticArrays"
   ]
  },
  {
   "cell_type": "code",
   "execution_count": 2,
   "metadata": {},
   "outputs": [
    {
     "data": {
      "text/plain": [
       "target_movement (generic function with 1 method)"
      ]
     },
     "execution_count": 2,
     "metadata": {},
     "output_type": "execute_result"
    }
   ],
   "source": [
    "function target_movement(p::UAVPOMDP, mode::Int8, veclocity::Float64, noise::Float64)\n",
    "    \n",
    "    position::Vector{Float64}(undef,2)\n",
    "    \n",
    "    if mode == 1\n",
    "    elseif mode == 2\n",
    "    elseif mode == 3\n",
    "    elseif mode == 4\n",
    "    elseif mode == 5\n",
    "    else\n",
    "    end\n",
    "    \n",
    "    return position \n",
    "    \n",
    "end"
   ]
  },
  {
   "cell_type": "code",
   "execution_count": 3,
   "metadata": {},
   "outputs": [
    {
     "data": {
      "text/plain": [
       "generate_s (generic function with 1 method)"
      ]
     },
     "execution_count": 3,
     "metadata": {},
     "output_type": "execute_result"
    }
   ],
   "source": [
    "# How the state transitions by generating a state for the next time step given the current state (s) and action (a).\n",
    "function generate_s(p::UAVPOMDP,state::SVector, action::SVector) \n",
    "    return next_state\n",
    "end"
   ]
  },
  {
   "cell_type": "code",
   "execution_count": 4,
   "metadata": {},
   "outputs": [],
   "source": [
    "# function observation???\n",
    "\n",
    "#function generate_o(p::UAVPOMDP,)\n",
    "\n",
    "#end\n",
    "    \n",
    "    "
   ]
  },
  {
   "cell_type": "code",
   "execution_count": null,
   "metadata": {},
   "outputs": [],
   "source": [
    "function reward(p::UAVPOMDP, s::SVector, a::SVector)\n",
    "    return 0\n",
    "end"
   ]
  },
  {
   "cell_type": "code",
   "execution_count": 5,
   "metadata": {},
   "outputs": [],
   "source": [
    "const Vec4_state = SVector{4, Float64}\n",
    "const Vec3_action = SVector{3, Float64}\n",
    "const Vec2_observation = SVector{2,Float64} \n",
    "\n",
    "struct UAVPOMDP <: POMDP{Vec4_state, Vec3_action, Vec2_observation} #state, action, and observation\n",
    "    #The type also includes parameters that will be used in the reward and transition definitions.\n",
    "    \n",
    "    \n",
    "    ###1.traget movement###\n",
    "#     target() # call the target function to build movement model\n",
    "\n",
    "    ###2.probability###\n",
    "    meas_std::Float64  # camera measurement noise\n",
    "    #mu::Float64          = 2.0\n",
    "    #dt::Float64          = 0.1\n",
    "    \n",
    "    ###3.reward###\n",
    "    r_detect::Float64\n",
    "    r_outScene::Float64\n",
    "    r_action::Float64\n",
    "    discount::Float64\n",
    "    #distance and landing reward still need to discuss\n",
    "    #landing_radius::Float64  = 0.1\n",
    "    #r_distance = nothing \n",
    "    #mission_terminate::Bool  = true\n",
    "    \n",
    "end\n",
    "\n",
    "\n",
    "###state 4d:x,y,z,heading_theta\n",
    "###action 3d: xy_speed, z_speed, theta_change\n",
    "###r_detect = 400\n",
    "###r_outScene = -70\n",
    "###r_action = -10\n",
    "###discount = 0.95\n",
    "###meas_std = 0.03"
   ]
  },
  {
   "cell_type": "code",
   "execution_count": 6,
   "metadata": {},
   "outputs": [
    {
     "data": {
      "text/plain": [
       "UAV (generic function with 1 method)"
      ]
     },
     "execution_count": 6,
     "metadata": {},
     "output_type": "execute_result"
    }
   ],
   "source": [
    "UAV() = UAVPOMDP()"
   ]
  }
 ],
 "metadata": {
  "kernelspec": {
   "display_name": "Julia 1.0.0",
   "language": "julia",
   "name": "julia-1.0"
  },
  "language_info": {
   "file_extension": ".jl",
   "mimetype": "application/julia",
   "name": "julia",
   "version": "1.0.0"
  }
 },
 "nbformat": 4,
 "nbformat_minor": 2
}
