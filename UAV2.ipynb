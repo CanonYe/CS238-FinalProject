{
 "cells": [
  {
   "cell_type": "code",
   "execution_count": 1,
   "metadata": {},
   "outputs": [],
   "source": [
    "using POMDPs\n",
    "using Random \n",
    "using Parameters\n",
    "using StaticArrays\n",
    "using Distributions\n",
    "using FIB\n",
    "using MCTS"
   ]
  },
  {
   "cell_type": "code",
   "execution_count": 2,
   "metadata": {},
   "outputs": [
    {
     "data": {
      "text/plain": [
       "SArray{Tuple{3},Float64,1,3}"
      ]
     },
     "execution_count": 2,
     "metadata": {},
     "output_type": "execute_result"
    }
   ],
   "source": [
    "const Vec2 = SVector{2, Float64}\n",
    "const Vec3 = SVector{3, Float64}"
   ]
  },
  {
   "cell_type": "code",
   "execution_count": 3,
   "metadata": {},
   "outputs": [],
   "source": [
    "struct state\n",
    "    uavPose::Vec3\n",
    "    uavHeading::Float64 # radius\n",
    "    targetPose::Vec2\n",
    "end\n",
    "\n",
    "struct action\n",
    "    xy_speed::Float64 # m/s\n",
    "    z_speed::Float64\n",
    "    angle::Float64 # radius\n",
    "end\n",
    "\n",
    "mutable struct UAVMDP <: MDP{state, action}\n",
    "\n",
    "    target_velocity::Vec2\n",
    "    target_std::Float64\n",
    "\n",
    "    r_outScene::Float64\n",
    "    r_action::Float64\n",
    "    r_reach::Float64\n",
    "\n",
    "    discount::Float64\n",
    "    \n",
    "    boundary::Int\n",
    "    landing_r::Int\n",
    "\n",
    "    mission_end::Bool\n",
    "end"
   ]
  },
  {
   "cell_type": "code",
   "execution_count": 4,
   "metadata": {},
   "outputs": [],
   "source": [
    "function POMDPs.generate_s(pp::UAVMDP, s::state, a::action, rng::AbstractRNG)\n",
    "    p = UAVMDP(pp)\n",
    "    # calculate target state\n",
    "    target_dt_distance = p.dt*p.target_velocity\n",
    "    sensor_noise = rand(Normal(0, p.target_std), 2)\n",
    "    curr_targ = s.targetPose + target_dt_distance + sensor_noise # next_target_pos(p, s.targetPose)\n",
    "    # calculate UAV state\n",
    "    curr_angle = s.uavHeading + a.angle\n",
    "    xy_dt_distance = p.dt*a.xy_speed*SVector(cos(curr_angle), sin(curr_angle)) # careful\n",
    "    z_dt_distance = p.dt*a.z_speed\n",
    "    xyz_dt_distance = SVector(xy_dt_distance[1], xy_dt_distance[2], z_dt_distance)\n",
    "    curr_pos = s.uavPose + xyz_dt_distance\n",
    "    return states(curr_pos, curr_angle, curr_targ)\n",
    "end"
   ]
  },
  {
   "cell_type": "code",
   "execution_count": 5,
   "metadata": {},
   "outputs": [],
   "source": [
    "function POMDPs.reward(pp::UAVMDP, s::state, a::action, rng::AbstractRNG)\n",
    "    p = UAVMDP(pp)\n",
    "    \n",
    "    distance_to_target = sqrt((s.uavPose[1]-s.targetPose[1])^2 + (s.uavPose[2]-s.targetPose[2])^2 + s.uavPose[3]^2)\n",
    "    \n",
    "    reward = p.r_action + 1/distance_to_target\n",
    "#     out scene punish \n",
    "    if s.uavPose[1]>p.boundary || s.uavPose[2]>p.boundary\n",
    "        reward = reward + p.r_outScene\n",
    "        p.mission_end = true\n",
    "    end\n",
    "    \n",
    "    if distance_to_target < p.landing_r\n",
    "        reward = reward + p.r_reach\n",
    "        p.mission_end = true\n",
    "    end\n",
    "    return reward\n",
    "end"
   ]
  },
  {
   "cell_type": "code",
   "execution_count": 6,
   "metadata": {},
   "outputs": [
    {
     "data": {
      "text/plain": [
       "UAVMDP([0.5, 0.5], 0.1, -70.0, -10.0, 100.0, 0.95, 100, 1, false)"
      ]
     },
     "execution_count": 6,
     "metadata": {},
     "output_type": "execute_result"
    }
   ],
   "source": [
    "POMDPs.initialstate_distribution(p::UAVMDP) = Deterministic(false)\n",
    "solver = MCTSSolver(n_iterations=50, depth=20, exploration_constant=5.0)\n",
    "UAV = UAVMDP(SVector(0.5,0.5),0.1,-70,-10,100,0.95,100,1,false)"
   ]
  },
  {
   "cell_type": "code",
   "execution_count": 7,
   "metadata": {},
   "outputs": [
    {
     "data": {
      "text/plain": [
       "MCTSPlanner{UAVMDP,state,action,MCTS.SolvedRolloutEstimator{POMDPPolicies.RandomPolicy{MersenneTwister,UAVMDP,BeliefUpdaters.NothingUpdater},MersenneTwister},MersenneTwister}(MCTSSolver(50, 20, 5.0, MersenneTwister(UInt32[0xe40cf386, 0x97b7e968, 0x78d7dd21, 0x05c54d15], Random.DSFMT.DSFMT_state(Int32[-98281423, 1073502871, -1994156596, 1073720132, 193631232, 1073530068, 662624214, 1072948239, -324277788, 1073311180  …  299767352, 1073122290, -397553185, 1073485599, -1297620421, -1722936499, -1857268063, -906139162, 382, 0]), [0.0, 0.0, 0.0, 0.0, 0.0, 0.0, 0.0, 0.0, 0.0, 0.0  …  0.0, 0.0, 0.0, 0.0, 0.0, 0.0, 0.0, 0.0, 0.0, 0.0], UInt128[0x00000000000000000000000000000000, 0x00000000000000000000000000000000, 0x00000000000000000000000000000000, 0x00000000000000000000000000000000, 0x00000000000000000000000000000000, 0x00000000000000000000000000000000, 0x00000000000000000000000000000000, 0x00000000000000000000000000000000, 0x00000000000000000000000000000000, 0x00000000000000000000000000000000  …  0x00000000000000000000000000000000, 0x00000000000000000000000000000000, 0x00000000000000000000000000000000, 0x00000000000000000000000000000000, 0x00000000000000000000000000000000, 0x00000000000000000000000000000000, 0x00000000000000000000000000000000, 0x00000000000000000000000000000000, 0x00000000000000000000000000000000, 0x00000000000000000000000000000000], 1002, 0), RolloutEstimator(POMDPPolicies.RandomSolver(MersenneTwister(UInt32[0xe40cf386, 0x97b7e968, 0x78d7dd21, 0x05c54d15], Random.DSFMT.DSFMT_state(Int32[-98281423, 1073502871, -1994156596, 1073720132, 193631232, 1073530068, 662624214, 1072948239, -324277788, 1073311180  …  299767352, 1073122290, -397553185, 1073485599, -1297620421, -1722936499, -1857268063, -906139162, 382, 0]), [0.0, 0.0, 0.0, 0.0, 0.0, 0.0, 0.0, 0.0, 0.0, 0.0  …  0.0, 0.0, 0.0, 0.0, 0.0, 0.0, 0.0, 0.0, 0.0, 0.0], UInt128[0x00000000000000000000000000000000, 0x00000000000000000000000000000000, 0x00000000000000000000000000000000, 0x00000000000000000000000000000000, 0x00000000000000000000000000000000, 0x00000000000000000000000000000000, 0x00000000000000000000000000000000, 0x00000000000000000000000000000000, 0x00000000000000000000000000000000, 0x00000000000000000000000000000000  …  0x00000000000000000000000000000000, 0x00000000000000000000000000000000, 0x00000000000000000000000000000000, 0x00000000000000000000000000000000, 0x00000000000000000000000000000000, 0x00000000000000000000000000000000, 0x00000000000000000000000000000000, 0x00000000000000000000000000000000, 0x00000000000000000000000000000000, 0x00000000000000000000000000000000], 1002, 0))), 0.0, 0, false, false), UAVMDP([0.5, 0.5], 0.1, -70.0, -10.0, 100.0, 0.95, 100, 1, false), MCTS.MCTSTree{state,action}(Dict{state,Int64}(), Array{Int64,1}[], Int64[], state[], Int64[], Float64[], action[], Dict{Pair{Int64,Int64},Int64}()), MCTS.SolvedRolloutEstimator{POMDPPolicies.RandomPolicy{MersenneTwister,UAVMDP,BeliefUpdaters.NothingUpdater},MersenneTwister}(POMDPPolicies.RandomPolicy{MersenneTwister,UAVMDP,BeliefUpdaters.NothingUpdater}(MersenneTwister(UInt32[0xe40cf386, 0x97b7e968, 0x78d7dd21, 0x05c54d15], Random.DSFMT.DSFMT_state(Int32[-98281423, 1073502871, -1994156596, 1073720132, 193631232, 1073530068, 662624214, 1072948239, -324277788, 1073311180  …  299767352, 1073122290, -397553185, 1073485599, -1297620421, -1722936499, -1857268063, -906139162, 382, 0]), [0.0, 0.0, 0.0, 0.0, 0.0, 0.0, 0.0, 0.0, 0.0, 0.0  …  0.0, 0.0, 0.0, 0.0, 0.0, 0.0, 0.0, 0.0, 0.0, 0.0], UInt128[0x00000000000000000000000000000000, 0x00000000000000000000000000000000, 0x00000000000000000000000000000000, 0x00000000000000000000000000000000, 0x00000000000000000000000000000000, 0x00000000000000000000000000000000, 0x00000000000000000000000000000000, 0x00000000000000000000000000000000, 0x00000000000000000000000000000000, 0x00000000000000000000000000000000  …  0x00000000000000000000000000000000, 0x00000000000000000000000000000000, 0x00000000000000000000000000000000, 0x00000000000000000000000000000000, 0x00000000000000000000000000000000, 0x00000000000000000000000000000000, 0x00000000000000000000000000000000, 0x00000000000000000000000000000000, 0x00000000000000000000000000000000, 0x00000000000000000000000000000000], 1002, 0), UAVMDP([0.5, 0.5], 0.1, -70.0, -10.0, 100.0, 0.95, 100, 1, false), BeliefUpdaters.NothingUpdater()), MersenneTwister(UInt32[0xe40cf386, 0x97b7e968, 0x78d7dd21, 0x05c54d15], Random.DSFMT.DSFMT_state(Int32[-98281423, 1073502871, -1994156596, 1073720132, 193631232, 1073530068, 662624214, 1072948239, -324277788, 1073311180  …  299767352, 1073122290, -397553185, 1073485599, -1297620421, -1722936499, -1857268063, -906139162, 382, 0]), [0.0, 0.0, 0.0, 0.0, 0.0, 0.0, 0.0, 0.0, 0.0, 0.0  …  0.0, 0.0, 0.0, 0.0, 0.0, 0.0, 0.0, 0.0, 0.0, 0.0], UInt128[0x00000000000000000000000000000000, 0x00000000000000000000000000000000, 0x00000000000000000000000000000000, 0x00000000000000000000000000000000, 0x00000000000000000000000000000000, 0x00000000000000000000000000000000, 0x00000000000000000000000000000000, 0x00000000000000000000000000000000, 0x00000000000000000000000000000000, 0x00000000000000000000000000000000  …  0x00000000000000000000000000000000, 0x00000000000000000000000000000000, 0x00000000000000000000000000000000, 0x00000000000000000000000000000000, 0x00000000000000000000000000000000, 0x00000000000000000000000000000000, 0x00000000000000000000000000000000, 0x00000000000000000000000000000000, 0x00000000000000000000000000000000, 0x00000000000000000000000000000000], 1002, 0)), MersenneTwister(UInt32[0xe40cf386, 0x97b7e968, 0x78d7dd21, 0x05c54d15], Random.DSFMT.DSFMT_state(Int32[-98281423, 1073502871, -1994156596, 1073720132, 193631232, 1073530068, 662624214, 1072948239, -324277788, 1073311180  …  299767352, 1073122290, -397553185, 1073485599, -1297620421, -1722936499, -1857268063, -906139162, 382, 0]), [0.0, 0.0, 0.0, 0.0, 0.0, 0.0, 0.0, 0.0, 0.0, 0.0  …  0.0, 0.0, 0.0, 0.0, 0.0, 0.0, 0.0, 0.0, 0.0, 0.0], UInt128[0x00000000000000000000000000000000, 0x00000000000000000000000000000000, 0x00000000000000000000000000000000, 0x00000000000000000000000000000000, 0x00000000000000000000000000000000, 0x00000000000000000000000000000000, 0x00000000000000000000000000000000, 0x00000000000000000000000000000000, 0x00000000000000000000000000000000, 0x00000000000000000000000000000000  …  0x00000000000000000000000000000000, 0x00000000000000000000000000000000, 0x00000000000000000000000000000000, 0x00000000000000000000000000000000, 0x00000000000000000000000000000000, 0x00000000000000000000000000000000, 0x00000000000000000000000000000000, 0x00000000000000000000000000000000, 0x00000000000000000000000000000000, 0x00000000000000000000000000000000], 1002, 0))"
      ]
     },
     "execution_count": 7,
     "metadata": {},
     "output_type": "execute_result"
    }
   ],
   "source": [
    "policy = solve(solver, UAV)"
   ]
  },
  {
   "cell_type": "code",
   "execution_count": null,
   "metadata": {},
   "outputs": [],
   "source": []
  }
 ],
 "metadata": {
  "kernelspec": {
   "display_name": "Julia 1.0.0",
   "language": "julia",
   "name": "julia-1.0"
  },
  "language_info": {
   "file_extension": ".jl",
   "mimetype": "application/julia",
   "name": "julia",
   "version": "1.0.0"
  }
 },
 "nbformat": 4,
 "nbformat_minor": 2
}
