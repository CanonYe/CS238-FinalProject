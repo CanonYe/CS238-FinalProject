{
 "cells": [
  {
   "cell_type": "code",
   "execution_count": 59,
   "metadata": {},
   "outputs": [
    {
     "name": "stdout",
     "output_type": "stream",
     "text": [
      "\u001b[32m\u001b[1m Resolving\u001b[22m\u001b[39m package versions...\n",
      "\u001b[32m\u001b[1m  Updating\u001b[22m\u001b[39m `~/.julia/environments/v1.0/Project.toml`\n",
      "\u001b[90m [no changes]\u001b[39m\n",
      "\u001b[32m\u001b[1m  Updating\u001b[22m\u001b[39m `~/.julia/environments/v1.0/Manifest.toml`\n",
      "\u001b[90m [no changes]\u001b[39m\n",
      "\u001b[32m\u001b[1m Resolving\u001b[22m\u001b[39m package versions...\n",
      "\u001b[32m\u001b[1m  Updating\u001b[22m\u001b[39m `~/.julia/environments/v1.0/Project.toml`\n",
      "\u001b[90m [no changes]\u001b[39m\n",
      "\u001b[32m\u001b[1m  Updating\u001b[22m\u001b[39m `~/.julia/environments/v1.0/Manifest.toml`\n",
      "\u001b[90m [no changes]\u001b[39m\n"
     ]
    }
   ],
   "source": [
    "using Pkg\n",
    "Pkg.add(\"ParticleFilters\")\n",
    "Pkg.add(\"POMCPOW\")"
   ]
  },
  {
   "cell_type": "code",
   "execution_count": 60,
   "metadata": {},
   "outputs": [],
   "source": [
    "using POMDPs\n",
    "using Random # for AbstractRNG\n",
    "using POMDPModelTools # for Deterministic\n",
    "using Parameters\n",
    "using StaticArrays\n",
    "using Distributions\n",
    "using LinearAlgebra\n",
    "using Base\n",
    "using ParticleFilters\n",
    "using POMCPOW\n",
    "using MCTS\n",
    "using Test\n",
    "using POMDPSimulators\n",
    "using POMDPPolicies"
   ]
  },
  {
   "cell_type": "code",
   "execution_count": 61,
   "metadata": {},
   "outputs": [],
   "source": [
    "const Vec2 = SVector{2, Float64}\n",
    "const Vec3 = SVector{3, Float64}\n",
    "\n",
    "struct MDPState\n",
    "    uavPose::Vec3\n",
    "    uavHeading::Float64 # degree\n",
    "    targetPose::Vec2\n",
    "end\n",
    "\n",
    "struct MDPAction\n",
    "    xy_speed::Float64 # m/s\n",
    "    z_speed::Float64\n",
    "    angle::Float64 # degree\n",
    "end\n",
    "\n",
    "struct POMDPAction\n",
    "    look::Bool\n",
    "    vel_steer::MDPAction\n",
    "end\n"
   ]
  },
  {
   "cell_type": "code",
   "execution_count": 62,
   "metadata": {},
   "outputs": [],
   "source": [
    "\n",
    "mutable struct targetObservationDistribution # not an actual distribution. Probably better to revise the name\n",
    "    current_observation::Vec2\n",
    "    if_observed::Bool\n",
    "end\n",
    "POMDPs.rand(rng::AbstractRNG, d::targetObservationDistribution) = d\n",
    "# POMDPs.pdf(d::TMazeObservationDistribution, o::Int64) = o == d.current_observation ? (return 1.0) : (return 0.0)\n",
    "\n"
   ]
  },
  {
   "cell_type": "code",
   "execution_count": 63,
   "metadata": {},
   "outputs": [
    {
     "data": {
      "text/plain": [
       "UAVchaseMDP"
      ]
     },
     "execution_count": 63,
     "metadata": {},
     "output_type": "execute_result"
    }
   ],
   "source": [
    "@with_kw struct UAVchaseMDP <: MDP{MDPState, MDPAction}\n",
    "    # mu::Float64          = 2.0\n",
    "    target_velocity::Vec2 = SVector(1., 0.0)\n",
    "    target_std::Float64     = 0.0001 # sensor noise, to be counted on target dynamics (objectively)\n",
    "    dt::Float64          = 0.1\n",
    "    target_height::Float64 = 0.3 # height of the platform\n",
    "    landing_radius::Float64  = 0.1\n",
    "    UAV_xy_speed = 0.6\n",
    "    UAV_z_speed = 0.2\n",
    "    # UAV_z_speed = 0.5\n",
    "\n",
    "    # initial states\n",
    "    # init_UAVPose = SVector(0,0,0.1)\n",
    "    # init_UAVHeading = 0.0\n",
    "    # init_targetPose = SVector(3.0, 0.0)\n",
    "    # init_target_std = 100.0 # quite uncertain about the inital target location (subjectively)\n",
    "\n",
    "    # init_UAVPose = SVector(0,0,0.5)\n",
    "    init_UAVPose = SVector(0,0,2.)\n",
    "    init_UAVHeading = 0.0\n",
    "    init_targetPose = SVector(3.0, 0.0)\n",
    "    init_target_std = 0.00001\n",
    "\n",
    "\n",
    "    # physical constraints\n",
    "    z_min::Float64 = 0.3\n",
    "    z_max::Float64 = 5\n",
    "\n",
    "    # might also consider collision cost\n",
    "    r_detect::Float64 = 0.0\n",
    "    r_outScene::Float64 = 0.0 # under the ground or above the ceiling\n",
    "    r_action::Float64 = 0.0\n",
    "    r_distance::Float64 = 1000 # not sure how to relate states to this reward???\n",
    "\n",
    "    # mission_terminate::Bool  = true\n",
    "    discount::Float64    = 0.95 # when do I use discount?\n",
    "end"
   ]
  },
  {
   "cell_type": "code",
   "execution_count": 64,
   "metadata": {},
   "outputs": [
    {
     "data": {
      "text/plain": [
       "UAVchasePOMDP"
      ]
     },
     "execution_count": 64,
     "metadata": {},
     "output_type": "execute_result"
    }
   ],
   "source": [
    "@with_kw struct UAVchasePOMDP <: POMDP{MDPState, MDPAction, targetObservationDistribution}\n",
    "    mdp::UAVchaseMDP           = UAVchaseMDP()\n",
    "    meas_std::Float64          = 0.001 # camera measurement noise\n",
    "\n",
    "    # angle to be within Field of View (FOV)\n",
    "    # FOV_angle1::Float64 = 60 # in degree\n",
    "    # FOV_angle2::Float64 = 60 # in degree\n",
    "    FOV_angle1::Float64 = 89 # in degree\n",
    "    FOV_angle2::Float64 = 89 # in degree\n",
    "end"
   ]
  },
  {
   "cell_type": "code",
   "execution_count": 65,
   "metadata": {},
   "outputs": [],
   "source": [
    "const UAVchaseProblem = Union{UAVchasePOMDP, UAVchaseMDP}\n",
    "mdp(p::UAVchaseMDP) = p\n",
    "mdp(p::UAVchasePOMDP) = p.mdp\n",
    "\n",
    "POMDPs.discount(pp::UAVchasePOMDP) = mdp(pp).discount\n"
   ]
  },
  {
   "cell_type": "code",
   "execution_count": 66,
   "metadata": {},
   "outputs": [],
   "source": [
    "mutable struct MDPStateDistribution\n",
    "    current_uavPose::Vec3\n",
    "    current_uavHeading::Float64\n",
    "    mean_targetPose::Vec2\n",
    "    std_targetPose::Float64\n",
    "end\n",
    "POMDPs.sampletype(::Type{MDPStateDistribution}) = MDPState\n"
   ]
  },
  {
   "cell_type": "code",
   "execution_count": 67,
   "metadata": {},
   "outputs": [],
   "source": [
    "\n",
    "function POMDPs.rand(rng::AbstractRNG, d::MDPStateDistribution)\n",
    "    target_cov = Matrix(d.std_targetPose*Diagonal{Float64}(I, 2))\n",
    "    rand_targetPose = d.mean_targetPose + rand(rng, MvNormal(target_cov))\n",
    "    return MDPState(d.current_uavPose,d.current_uavHeading, rand_targetPose)\n",
    "end\n",
    "\n",
    "function POMDPs.initialstate_distribution(pp::UAVchaseProblem)\n",
    "    p = mdp(pp)\n",
    "    init_uav_pose = p.init_UAVPose\n",
    "    init_uav_heading = p.init_UAVHeading\n",
    "    init_taget_pose = p.init_targetPose\n",
    "    init_target_std = p.init_target_std\n",
    "    return MDPStateDistribution(init_uav_pose, init_uav_heading, init_taget_pose, init_target_std)\n",
    "end"
   ]
  },
  {
   "cell_type": "code",
   "execution_count": 68,
   "metadata": {},
   "outputs": [],
   "source": [
    "function POMDPs.generate_s(pp::UAVchaseProblem, s::MDPState, a::MDPAction, rng::AbstractRNG)\n",
    "    p = mdp(pp)\n",
    "    # calculate target state\n",
    "    target_dt_distance = p.dt*p.target_velocity\n",
    "    ## sensor_noise = Base.rand(Normal(0, p.target_std), 2)\n",
    "    target_dynamic_cov = Matrix(p.target_std*Diagonal{Float64}(I, 2))\n",
    "    sensor_noise = rand(rng, MvNormal(target_dynamic_cov))\n",
    "    ## sensor_noise = SVector(0,0)\n",
    "    curr_targ = s.targetPose + target_dt_distance + sensor_noise # next_target_pos(p, s.targetPose)\n",
    "    # calculate UAV state\n",
    "    curr_angle = s.uavHeading + a.angle\n",
    "    xy_dt_distance = p.dt*a.xy_speed*SVector(cosd(curr_angle), sind(curr_angle)) # careful\n",
    "    z_dt_distance = p.dt*a.z_speed\n",
    "    xyz_dt_distance = SVector(xy_dt_distance[1], xy_dt_distance[2], z_dt_distance)\n",
    "    curr_pos = s.uavPose + xyz_dt_distance\n",
    "    return MDPState(curr_pos, curr_angle, curr_targ)\n",
    "end"
   ]
  },
  {
   "cell_type": "code",
   "execution_count": 69,
   "metadata": {},
   "outputs": [
    {
     "data": {
      "text/plain": [
       "if_in_FOV (generic function with 1 method)"
      ]
     },
     "execution_count": 69,
     "metadata": {},
     "output_type": "execute_result"
    }
   ],
   "source": [
    "function if_in_FOV(p::UAVchasePOMDP, s::MDPState)\n",
    "    # pose = s.uavPose\n",
    "    range1 = s.uavPose[3]*tand(p.FOV_angle1)\n",
    "    range2 = s.uavPose[3]*tand(p.FOV_angle2)\n",
    "    # within_x = (s.targetPose[1]>(s.uavPose[1]-range1))||(s.targetPose[1]<(s.uavPose[1]+range1))\n",
    "    if !(s.targetPose[1]>(s.uavPose[1]-range1))&&(s.targetPose[1]<(s.uavPose[1]+range1))\n",
    "        return false # if target is NOT within FOV in x direction\n",
    "    end\n",
    "    if (s.targetPose[2]>(s.uavPose[2]-range2))&&(s.targetPose[2]<(s.uavPose[2]+range2))\n",
    "        return true # if target is within FOV in y direction\n",
    "    else\n",
    "        return false\n",
    "    end\n",
    "end"
   ]
  },
  {
   "cell_type": "code",
   "execution_count": 70,
   "metadata": {},
   "outputs": [],
   "source": [
    "# I only count the case of POMDP, not having two reward functions as in VDPtag\n",
    "function POMDPs.reward(pp::UAVchasePOMDP, a::MDPAction, sp::MDPState)\n",
    "    p = mdp(pp)\n",
    "    # action_reward = p.r_action * ((a.xy_speed != 0)||(a.z_speed != 0))\n",
    "    if ((a.xy_speed != 0)||(a.z_speed != 0))\n",
    "        action_reward = p.r_action\n",
    "    else\n",
    "        action_reward = 0.0\n",
    "    end\n",
    "    # detection_reward = p.r_detect * if_in_FOV(pp, sp)\n",
    "    if if_in_FOV(pp, sp)\n",
    "        detection_reward = p.r_detect\n",
    "    else\n",
    "        detection_reward = 0.0\n",
    "    end\n",
    "    # outScene_reward = p.r_outScene * ((sp.uavPose[3] < p.z_min)||(sp.uavPose[3] > p.z_max))\n",
    "    if ((sp.uavPose[3] < p.z_min)||(sp.uavPose[3] > p.z_max))\n",
    "        outScene_reward = p.r_outScene\n",
    "    else\n",
    "        outScene_reward = 0.0\n",
    "    end\n",
    "    # distance reward:\n",
    "    target3Dpose = SVector(sp.targetPose[1], sp.targetPose[2], p.target_height)\n",
    "    distance_reward = p.r_distance/(norm(sp.uavPose - target3Dpose)+0.00001)\n",
    "    return action_reward + detection_reward + outScene_reward + distance_reward\n",
    "end\n",
    "\n",
    "function POMDPs.generate_sr(pp::UAVchasePOMDP, s::MDPState, a::MDPAction, rng::AbstractRNG)\n",
    "    sp = generate_s(pp, s, a, rng)\n",
    "    return sp, reward(pp,a, sp)\n",
    "end"
   ]
  },
  {
   "cell_type": "code",
   "execution_count": 71,
   "metadata": {},
   "outputs": [],
   "source": [
    "function POMDPs.generate_o(pp::UAVchasePOMDP, s::MDPState, a::MDPAction, sp::MDPState, rng::AbstractRNG)\n",
    "    p = mdp(pp)\n",
    "    if if_in_FOV(pp, sp) # if target is IN camera field of view (FOV) <=> having a measurement\n",
    "        meas_cov = Matrix(pp.meas_std*Diagonal{Float64}(I, 2))\n",
    "        measurement_noise = rand(rng, MvNormal(meas_cov))\n",
    "        targetPose_pred = s.targetPose + p.dt*p.target_velocity\n",
    "        meas_location = targetPose_pred + measurement_noise # measurement is the target location + noise\n",
    "        return targetObservationDistribution(meas_location, true)\n",
    "    else # not in FOV <=> no measurement available\n",
    "        targetPose_pred = s.targetPose + p.dt*p.target_velocity # a naive predictor when no measurement is available when taget is NOT within FOV\n",
    "        return targetObservationDistribution(targetPose_pred, false)\n",
    "    end\n",
    "end\n",
    "\n",
    "function POMDPs.observation(pp::UAVchasePOMDP, s::MDPState, a::MDPAction, sp::MDPState, rng::AbstractRNG)\n",
    "    return generate_o(pp, s, a, sp, rng) # not sure if this function is needed for anything\n",
    "end"
   ]
  },
  {
   "cell_type": "code",
   "execution_count": 72,
   "metadata": {},
   "outputs": [],
   "source": [
    " function POMDPModelTools.obs_weight(pp::UAVchasePOMDP, s::MDPState, a::MDPAction, sp::MDPState, o::targetObservationDistribution)\n",
    "     p = mdp(pp)\n",
    "     if if_in_FOV(pp, sp)\n",
    "         if o.if_observed\n",
    "             y = o.current_observation # true measurement\n",
    "             y_hat = s.targetPose + p.dt*p.target_velocity # not sure if prediction should be sp\n",
    "             sigma_square = pp.meas_std\n",
    "             return 1.0/(2*pi*sigma_square)*exp(-0.5*( (y[1]-y_hat[1])^2 + (y[2]-y_hat[2])^2 )/sigma_square) # assume normal distribution\n",
    "         else\n",
    "             return 0.0\n",
    "         end\n",
    "     else # if not in FOV\n",
    "         if o.if_observed\n",
    "             return 0.0\n",
    "         else\n",
    "             return 1.0\n",
    "         end\n",
    "     end\n",
    " end"
   ]
  },
  {
   "cell_type": "code",
   "execution_count": 73,
   "metadata": {},
   "outputs": [],
   "source": [
    "function POMDPs.actions(pp::UAVchasePOMDP)\n",
    "    p = mdp(pp)\n",
    "    xy = p.UAV_xy_speed\n",
    "    z = p.UAV_z_speed\n",
    "    action_list= [MDPAction(xy,0.,0.), MDPAction(xy,0.,15.), MDPAction(xy,0.,30.), MDPAction(xy,0.,45.),\n",
    "                  MDPAction(0.,0.,0.), MDPAction(xy,0.,-15.), MDPAction(xy,0.,-30.), MDPAction(xy,0.,-45.),\n",
    "                  MDPAction(0.,z,0.), MDPAction(0.,-z, 0.), MDPAction(xy,0.,90.), MDPAction(-xy,0.,-90.),\n",
    "                  MDPAction(2*xy,0.,0.), MDPAction(2*xy,0.,15.), MDPAction(2*xy,0.,30.), MDPAction(2*xy,0.,45.),\n",
    "                  MDPAction(0.,-3*z,0.), MDPAction(2*xy,0.,-15.), MDPAction(2*xy,0.,-30.), MDPAction(2*xy,0.,-45.),\n",
    "                  MDPAction(0.,2*z,0.), MDPAction(0.,-2*z, 0.), MDPAction(2*xy,0.,90.), MDPAction(-2*xy,0.,-90.)]\n",
    "    return action_list\n",
    "end\n"
   ]
  },
  {
   "cell_type": "code",
   "execution_count": 74,
   "metadata": {},
   "outputs": [
    {
     "data": {
      "text/plain": [
       "POMCPOWPlanner{UAVchasePOMDP,POMCPOW.POWNodeFilter,MaxUCB,RandomActionGenerator{MersenneTwister},BasicPOMCP.SolvedPORollout{RandomPolicy{MersenneTwister,UAVchasePOMDP,BeliefUpdaters.NothingUpdater},BeliefUpdaters.NothingUpdater,MersenneTwister},Int64,Float64,POMCPOWSolver}(POMCPOWSolver\n",
       "  eps: Float64 0.01\n",
       "  max_depth: Int64 10\n",
       "  criterion: MaxUCB\n",
       "  final_criterion: MaxQ MaxQ()\n",
       "  tree_queries: Int64 1000\n",
       "  max_time: Float64 Inf\n",
       "  rng: MersenneTwister\n",
       "  node_sr_belief_updater: POMCPOW.POWNodeFilter POMCPOW.POWNodeFilter()\n",
       "  estimate_value: RolloutEstimator\n",
       "  enable_action_pw: Bool true\n",
       "  check_repeat_obs: Bool false\n",
       "  check_repeat_act: Bool true\n",
       "  tree_in_info: Bool false\n",
       "  alpha_observation: Float64 0.5\n",
       "  k_observation: Float64 10.0\n",
       "  alpha_action: Float64 0.5\n",
       "  k_action: Float64 10.0\n",
       "  init_V: Float64 0.0\n",
       "  init_N: Int64 0\n",
       "  next_action: RandomActionGenerator{MersenneTwister}\n",
       "  default_action: ExceptionRethrow ExceptionRethrow()\n",
       ", UAVchasePOMDP\n",
       "  mdp: UAVchaseMDP\n",
       "  meas_std: Float64 0.001\n",
       "  FOV_angle1: Float64 89.0\n",
       "  FOV_angle2: Float64 89.0\n",
       ", POMCPOW.POWNodeFilter(), MaxUCB(10.0), RandomActionGenerator{MersenneTwister}(MersenneTwister(UInt32[0x00000002], Random.DSFMT.DSFMT_state(Int32[-641910338, 1073498426, 723285883, 1072698796, -1488430546, 1073569104, -731969899, 1072832439, 428204485, 1073526484  …  -1507702375, 1073598657, -1605363939, 1073095897, -2041507079, 747155801, 735731947, -1871817892, 382, 0]), [0.0, 0.0, 0.0, 0.0, 0.0, 0.0, 0.0, 0.0, 0.0, 0.0  …  0.0, 0.0, 0.0, 0.0, 0.0, 0.0, 0.0, 0.0, 0.0, 0.0], UInt128[0x00000000000000000000000000000000, 0x00000000000000000000000000000000, 0x00000000000000000000000000000000, 0x00000000000000000000000000000000, 0x00000000000000000000000000000000, 0x00000000000000000000000000000000, 0x00000000000000000000000000000000, 0x00000000000000000000000000000000, 0x00000000000000000000000000000000, 0x00000000000000000000000000000000  …  0x00000000000000000000000000000000, 0x00000000000000000000000000000000, 0x00000000000000000000000000000000, 0x00000000000000000000000000000000, 0x00000000000000000000000000000000, 0x00000000000000000000000000000000, 0x00000000000000000000000000000000, 0x00000000000000000000000000000000, 0x00000000000000000000000000000000, 0x00000000000000000000000000000000], 1002, 0)), BasicPOMCP.SolvedPORollout{RandomPolicy{MersenneTwister,UAVchasePOMDP,BeliefUpdaters.NothingUpdater},BeliefUpdaters.NothingUpdater,MersenneTwister}(RandomPolicy{MersenneTwister,UAVchasePOMDP,BeliefUpdaters.NothingUpdater}(MersenneTwister(UInt32[0x00000002], Random.DSFMT.DSFMT_state(Int32[-641910338, 1073498426, 723285883, 1072698796, -1488430546, 1073569104, -731969899, 1072832439, 428204485, 1073526484  …  -1507702375, 1073598657, -1605363939, 1073095897, -2041507079, 747155801, 735731947, -1871817892, 382, 0]), [0.0, 0.0, 0.0, 0.0, 0.0, 0.0, 0.0, 0.0, 0.0, 0.0  …  0.0, 0.0, 0.0, 0.0, 0.0, 0.0, 0.0, 0.0, 0.0, 0.0], UInt128[0x00000000000000000000000000000000, 0x00000000000000000000000000000000, 0x00000000000000000000000000000000, 0x00000000000000000000000000000000, 0x00000000000000000000000000000000, 0x00000000000000000000000000000000, 0x00000000000000000000000000000000, 0x00000000000000000000000000000000, 0x00000000000000000000000000000000, 0x00000000000000000000000000000000  …  0x00000000000000000000000000000000, 0x00000000000000000000000000000000, 0x00000000000000000000000000000000, 0x00000000000000000000000000000000, 0x00000000000000000000000000000000, 0x00000000000000000000000000000000, 0x00000000000000000000000000000000, 0x00000000000000000000000000000000, 0x00000000000000000000000000000000, 0x00000000000000000000000000000000], 1002, 0), UAVchasePOMDP\n",
       "  mdp: UAVchaseMDP\n",
       "  meas_std: Float64 0.001\n",
       "  FOV_angle1: Float64 89.0\n",
       "  FOV_angle2: Float64 89.0\n",
       ", BeliefUpdaters.NothingUpdater()), BeliefUpdaters.NothingUpdater(), MersenneTwister(UInt32[0x00000002], Random.DSFMT.DSFMT_state(Int32[-641910338, 1073498426, 723285883, 1072698796, -1488430546, 1073569104, -731969899, 1072832439, 428204485, 1073526484  …  -1507702375, 1073598657, -1605363939, 1073095897, -2041507079, 747155801, 735731947, -1871817892, 382, 0]), [0.0, 0.0, 0.0, 0.0, 0.0, 0.0, 0.0, 0.0, 0.0, 0.0  …  0.0, 0.0, 0.0, 0.0, 0.0, 0.0, 0.0, 0.0, 0.0, 0.0], UInt128[0x00000000000000000000000000000000, 0x00000000000000000000000000000000, 0x00000000000000000000000000000000, 0x00000000000000000000000000000000, 0x00000000000000000000000000000000, 0x00000000000000000000000000000000, 0x00000000000000000000000000000000, 0x00000000000000000000000000000000, 0x00000000000000000000000000000000, 0x00000000000000000000000000000000  …  0x00000000000000000000000000000000, 0x00000000000000000000000000000000, 0x00000000000000000000000000000000, 0x00000000000000000000000000000000, 0x00000000000000000000000000000000, 0x00000000000000000000000000000000, 0x00000000000000000000000000000000, 0x00000000000000000000000000000000, 0x00000000000000000000000000000000, 0x00000000000000000000000000000000], 1002, 0)), 0, 0.0, nothing)"
      ]
     },
     "execution_count": 74,
     "metadata": {},
     "output_type": "execute_result"
    }
   ],
   "source": [
    "POMCPOW_solver2 = POMCPOWSolver(max_depth = 10, # the deeper, the more oscillations on heading angles.\n",
    "                     tree_queries=1000,\n",
    "\n",
    "                     criterion=MaxUCB(10.0),\n",
    "                     enable_action_pw=true,\n",
    "                     check_repeat_obs=false,\n",
    "                     rng=MersenneTwister(2))\n",
    "\n",
    "my_pomdp = UAVchasePOMDP()\n",
    "policyPOMCPOW2 = POMCPOWPlanner(POMCPOW_solver2, my_pomdp)"
   ]
  },
  {
   "cell_type": "code",
   "execution_count": 75,
   "metadata": {},
   "outputs": [
    {
     "data": {
      "text/plain": [
       "0-element Array{Any,1}"
      ]
     },
     "execution_count": 75,
     "metadata": {},
     "output_type": "execute_result"
    }
   ],
   "source": [
    "uav_poses = [] # Vector of sequential uav poses\n",
    "target_poses = []"
   ]
  },
  {
   "cell_type": "code",
   "execution_count": 76,
   "metadata": {},
   "outputs": [
    {
     "name": "stderr",
     "output_type": "stream",
     "text": [
      "\u001b[32mSimulating...100%|██████████████████████████████████████| Time: 0:00:06\u001b[39m\n"
     ]
    },
    {
     "name": "stdout",
     "output_type": "stream",
     "text": [
      "s = MDPState([0.0, 0.0, 2.0], 0.0, [3.00806, -0.000382569])\n",
      "s = MDPState([0.12, 0.0, 2.0], 0.0, [3.10094, -0.00426299])\n",
      "s = MDPState([0.24, 0.0, 2.0], 0.0, [3.18993, -0.00727279])\n",
      "s = MDPState([0.36, 0.0, 2.0], 0.0, [3.27586, -0.000466891])\n",
      "s = MDPState([0.475911, -0.0310583, 2.0], -15.0, [3.38689, -0.000480831])\n",
      "s = MDPState([0.595911, -0.0310583, 2.0], 0.0, [3.48572, 0.00441577])\n",
      "s = MDPState([0.711822, -0.0621166, 2.0], -15.0, [3.59631, -0.0138871])\n",
      "s = MDPState([0.831822, -0.0621166, 2.0], 0.0, [3.6684, -0.00667619])\n",
      "s = MDPState([0.947733, -0.0310583, 2.0], 15.0, [3.78476, -0.00507187])\n",
      "s = MDPState([1.05166, -0.0910583, 2.0], -30.0, [3.89293, -0.0101857])\n",
      "s = MDPState([1.16757, -0.122117, 2.0], -15.0, [3.99808, -0.0305422])\n",
      "s = MDPState([1.28348, -0.0910583, 2.0], 15.0, [4.10518, -0.0252856])\n",
      "s = MDPState([1.40348, -0.0910583, 2.0], 0.0, [4.21295, -0.0184776])\n",
      "s = MDPState([1.52348, -0.0910583, 2.0], 0.0, [4.30874, -0.0294572])\n",
      "s = MDPState([1.64348, -0.0910583, 2.0], 0.0, [4.40285, -0.0393724])\n",
      "s = MDPState([1.76348, -0.0910583, 2.0], 0.0, [4.51183, -0.0400575])\n",
      "s = MDPState([1.87939, -0.122117, 2.0], -15.0, [4.60009, -0.0447746])\n",
      "s = MDPState([1.99939, -0.122117, 2.0], 0.0, [4.70222, -0.0452985])\n",
      "s = MDPState([2.1153, -0.153175, 2.0], -15.0, [4.81479, -0.0533253])\n",
      "s = MDPState([2.2353, -0.153175, 2.0], 0.0, [4.89082, -0.0585451])\n",
      "s = MDPState([2.35121, -0.184233, 2.0], -15.0, [4.9914, -0.0577502])\n",
      "s = MDPState([2.46712, -0.215291, 2.0], -15.0, [5.10114, -0.0744838])\n",
      "s = MDPState([2.58712, -0.215291, 2.0], 0.0, [5.20262, -0.0803802])\n",
      "s = MDPState([2.69105, -0.275291, 2.0], -30.0, [5.28293, -0.0840304])\n",
      "s = MDPState([2.80696, -0.244233, 2.0], 15.0, [5.37042, -0.0662488])\n",
      "s = MDPState([2.91088, -0.304233, 2.0], -30.0, [5.47632, -0.0629291])\n",
      "s = MDPState([3.0148, -0.364233, 2.0], -30.0, [5.56263, -0.0647034])\n",
      "s = MDPState([3.13071, -0.333175, 2.0], 15.0, [5.66612, -0.0661028])\n",
      "s = MDPState([3.25071, -0.333175, 2.0], 0.0, [5.75628, -0.0766591])\n",
      "s = MDPState([3.37071, -0.333175, 2.0], 0.0, [5.86273, -0.0691709])\n",
      "s = MDPState([3.42867, -0.348704, 2.0], -15.0, [5.94868, -0.0640078])\n",
      "s = MDPState([3.54867, -0.348704, 2.0], 0.0, [6.03198, -0.076574])\n",
      "s = MDPState([3.66458, -0.379762, 2.0], -15.0, [6.14603, -0.0769556])\n",
      "s = MDPState([3.78049, -0.348704, 2.0], 15.0, [6.25678, -0.0624942])\n",
      "s = MDPState([3.8964, -0.317646, 2.0], 15.0, [6.34856, -0.0503868])\n",
      "s = MDPState([4.01231, -0.348704, 2.0], -15.0, [6.46113, -0.0589844])\n",
      "s = MDPState([4.12823, -0.379762, 2.0], -15.0, [6.57088, -0.0585379])\n",
      "s = MDPState([4.24414, -0.410821, 2.0], -15.0, [6.66746, -0.0506854])\n",
      "s = MDPState([4.36005, -0.379762, 2.0], 15.0, [6.77854, -0.0418624])\n",
      "s = MDPState([4.48005, -0.379762, 2.0], 0.0, [6.87335, -0.0401966])\n",
      "s = MDPState([4.60005, -0.379762, 2.0], 0.0, [6.97252, -0.0419239])\n",
      "s = MDPState([4.72005, -0.379762, 2.0], 0.0, [7.06237, -0.03815])\n",
      "s = MDPState([4.83596, -0.410821, 2.0], -15.0, [7.16575, -0.050376])\n",
      "s = MDPState([4.95596, -0.410821, 2.0], 0.0, [7.28035, -0.0508839])\n",
      "s = MDPState([5.07187, -0.441879, 2.0], -15.0, [7.38134, -0.0440083])\n",
      "s = MDPState([5.18778, -0.472937, 2.0], -15.0, [7.47687, -0.0459701])\n",
      "s = MDPState([5.30778, -0.472937, 2.0], 0.0, [7.57321, -0.055817])\n",
      "s = MDPState([5.42778, -0.472937, 2.0], 0.0, [7.67328, -0.0582245])\n",
      "s = MDPState([5.5317, -0.412937, 2.0], 30.0, [7.77932, -0.055384])\n",
      "s = MDPState([5.64761, -0.381879, 2.0], 15.0, [7.87287, -0.0186806])\n",
      "s = MDPState([5.76761, -0.381879, 2.0], 0.0, [7.97681, -0.0177542])\n",
      "s = MDPState([5.88353, -0.412937, 2.0], -15.0, [8.09109, -0.0119003])\n",
      "s = MDPState([5.99944, -0.443995, 2.0], -15.0, [8.18974, -0.0260828])\n",
      "s = MDPState([6.11944, -0.443995, 2.0], 0.0, [8.28023, -0.0293485])\n",
      "s = MDPState([6.23535, -0.475054, 2.0], -15.0, [8.37662, -0.0138072])\n",
      "s = MDPState([6.35126, -0.506112, 2.0], -15.0, [8.47229, -0.00772204])\n",
      "s = MDPState([6.47126, -0.506112, 2.0], 0.0, [8.57368, -0.00483262])\n",
      "s = MDPState([6.59126, -0.506112, 2.0], 0.0, [8.67339, -0.0126676])\n",
      "s = MDPState([6.70717, -0.475054, 2.0], 15.0, [8.76619, -0.0171796])\n",
      "s = MDPState([6.82717, -0.475054, 2.0], 0.0, [8.8783, -0.0130256])\n",
      "s = MDPState([6.94308, -0.506112, 2.0], -15.0, [8.97672, -0.00513192])\n",
      "s = MDPState([7.06308, -0.506112, 2.0], 0.0, [9.07471, -0.00442856])\n",
      "s = MDPState([7.17899, -0.475054, 2.0], 15.0, [9.1604, -0.0162827])\n",
      "s = MDPState([7.2949, -0.443995, 2.0], 15.0, [9.25868, 0.000186524])\n",
      "s = MDPState([7.4149, -0.443995, 2.0], 0.0, [9.3449, 0.0172885])\n",
      "s = MDPState([7.5349, -0.443995, 2.0], 0.0, [9.44752, 0.0142285])\n",
      "s = MDPState([7.65081, -0.412937, 2.0], 15.0, [9.54456, 0.0135951])\n",
      "s = MDPState([7.76673, -0.443995, 2.0], -15.0, [9.64505, 0.0335449])\n",
      "s = MDPState([7.88264, -0.412937, 2.0], 15.0, [9.73646, 0.0375357])\n",
      "s = MDPState([8.00264, -0.412937, 2.0], 0.0, [9.8272, 0.0431544])\n",
      "s = MDPState([8.11855, -0.443995, 2.0], -15.0, [9.92194, 0.0500995])\n",
      "s = MDPState([8.23855, -0.443995, 2.0], 0.0, [10.0065, 0.0574538])\n",
      "s = MDPState([8.35855, -0.443995, 2.0], 0.0, [10.102, 0.0621637])\n",
      "s = MDPState([8.46247, -0.383995, 2.0], 30.0, [10.1897, 0.0516796])\n",
      "s = MDPState([8.57838, -0.415054, 2.0], -15.0, [10.2874, 0.0535862])\n",
      "s = MDPState([8.69838, -0.415054, 2.0], 0.0, [10.3878, 0.0491862])\n",
      "s = MDPState([8.81429, -0.383995, 2.0], 15.0, [10.4926, 0.0544502])\n",
      "s = MDPState([8.9302, -0.352937, 2.0], 15.0, [10.5991, 0.0648502])\n",
      "s = MDPState([9.03413, -0.292937, 2.0], 30.0, [10.7039, 0.0571755])\n",
      "s = MDPState([9.15413, -0.292937, 2.0], 0.0, [10.8194, 0.0551316])\n",
      "s = MDPState([9.25805, -0.352937, 2.0], -30.0, [10.9283, 0.051983])\n",
      "s = MDPState([9.37396, -0.383995, 2.0], -15.0, [11.0176, 0.0657258])\n",
      "s = MDPState([9.48987, -0.352937, 2.0], 15.0, [11.1111, 0.0625983])\n",
      "s = MDPState([9.60578, -0.321879, 2.0], 15.0, [11.2082, 0.0439024])\n",
      "s = MDPState([9.7217, -0.290821, 2.0], 15.0, [11.3126, 0.0264668])\n",
      "s = MDPState([9.83761, -0.321879, 2.0], -15.0, [11.3885, 0.0323333])\n",
      "s = MDPState([9.95352, -0.290821, 2.0], 15.0, [11.4892, 0.0308088])\n",
      "s = MDPState([10.0735, -0.290821, 2.0], 0.0, [11.5934, 0.0227068])\n",
      "s = MDPState([10.1935, -0.290821, 2.0], 0.0, [11.7, 0.0327199])\n",
      "s = MDPState([10.3094, -0.321879, 2.0], -15.0, [11.7847, 0.014743])\n",
      "s = MDPState([10.4253, -0.290821, 2.0], 15.0, [11.8829, 0.00176961])\n",
      "s = MDPState([10.5453, -0.290821, 2.0], 0.0, [11.9756, 0.0154554])\n",
      "s = MDPState([10.6653, -0.290821, 2.0], 0.0, [12.0729, 0.0193773])\n",
      "s = MDPState([10.7813, -0.259762, 2.0], 15.0, [12.184, -0.00164134])\n",
      "s = MDPState([10.8972, -0.290821, 2.0], -15.0, [12.2661, -0.00322809])\n",
      "s = MDPState([11.0172, -0.290821, 2.0], 0.0, [12.3748, 0.0194585])\n",
      "s = MDPState([11.1331, -0.259762, 2.0], 15.0, [12.4868, 0.0249385])\n",
      "s = MDPState([11.2531, -0.259762, 2.0], 0.0, [12.5759, 0.0254499])\n",
      "s = MDPState([11.369, -0.228704, 2.0], 15.0, [12.6716, 0.0245174])\n",
      "s = MDPState([11.4849, -0.259762, 2.0], -15.0, [12.7647, 0.0235943])\n"
     ]
    }
   ],
   "source": [
    "hr = HistoryRecorder(show_progress=true, max_steps=100)\n",
    "up = SIRParticleFilter(my_pomdp, 100)\n",
    "hist = simulate(hr, my_pomdp, policyPOMCPOW2, up)"
   ]
  },
  {
   "cell_type": "code",
   "execution_count": 81,
   "metadata": {},
   "outputs": [],
   "source": [
    "\n",
    "for (s, b, a, r, sp, o) in hist\n",
    "    # @show s, a, r, sp, o\n",
    "    \n",
    "    push!(uav_poses, s.uavPose)\n",
    "    push!(target_poses, s.targetPose)\n",
    "end"
   ]
  },
  {
   "cell_type": "code",
   "execution_count": 83,
   "metadata": {},
   "outputs": [],
   "source": [
    "using DelimitedFiles\n",
    "writedlm( \"./uvapos.csv\", uav_poses)\n",
    "writedlm( \"./targetpos.csv\", target_poses)"
   ]
  },
  {
   "cell_type": "code",
   "execution_count": null,
   "metadata": {},
   "outputs": [],
   "source": []
  }
 ],
 "metadata": {
  "kernelspec": {
   "display_name": "Julia 1.0.0",
   "language": "julia",
   "name": "julia-1.0"
  },
  "language_info": {
   "file_extension": ".jl",
   "mimetype": "application/julia",
   "name": "julia",
   "version": "1.0.0"
  }
 },
 "nbformat": 4,
 "nbformat_minor": 2
}
